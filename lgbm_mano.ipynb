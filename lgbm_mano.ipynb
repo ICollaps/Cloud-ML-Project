{
 "cells": [
  {
   "cell_type": "code",
   "execution_count": 3,
   "metadata": {},
   "outputs": [
    {
     "name": "stdout",
     "output_type": "stream",
     "text": [
      "Score du modèle : 0.980788\n"
     ]
    }
   ],
   "source": [
    "import pandas as pd\n",
    "from lightgbm import LGBMClassifier\n",
    "from sklearn.model_selection import train_test_split\n",
    "from sklearn.preprocessing import LabelEncoder\n",
    "\n",
    "df = pd.read_csv('data/train.csv')\n",
    "df_cleaned = df.drop(columns=[\"Unnamed: 0\", \"N°DPE\"])\n",
    "\n",
    "y = df_cleaned[\"Etiquette_DPE\"]\n",
    "X = df_cleaned.drop(columns=[\"Etiquette_DPE\"])\n",
    "\n",
    "categorical_cols = X.select_dtypes(include=['object', 'category']).columns\n",
    "\n",
    "for col in categorical_cols:\n",
    "    le = LabelEncoder()\n",
    "    X[col] = le.fit_transform(X[col].astype(str))\n",
    "\n",
    "X_train, X_test, y_train, y_test = train_test_split(X, y, test_size=0.2, random_state=42)\n",
    "\n",
    "clf = LGBMClassifier(colsample_bytree=0.6173146581974789,\n",
    "                     learning_rate=0.17750586590938333,\n",
    "                     max_bin=1023,\n",
    "                     min_child_samples=25,\n",
    "                     n_estimators=146,\n",
    "                     num_leaves=117,\n",
    "                     reg_alpha=0.03981592434190326,\n",
    "                     reg_lambda=0.2728675171499438,\n",
    "                     verbose=-1)\n",
    "clf.fit(X_train, y_train)\n",
    "\n",
    "score = clf.score(X_test, y_test)\n",
    "print(f\"Score du modèle : {score}\")\n"
   ]
  }
 ],
 "metadata": {
  "kernelspec": {
   "display_name": "Python 3",
   "language": "python",
   "name": "python3"
  },
  "language_info": {
   "codemirror_mode": {
    "name": "ipython",
    "version": 3
   },
   "file_extension": ".py",
   "mimetype": "text/x-python",
   "name": "python",
   "nbconvert_exporter": "python",
   "pygments_lexer": "ipython3",
   "version": "3.11.3"
  }
 },
 "nbformat": 4,
 "nbformat_minor": 2
}
