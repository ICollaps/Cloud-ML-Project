{
 "cells": [
  {
   "cell_type": "code",
   "execution_count": 2,
   "metadata": {},
   "outputs": [],
   "source": [
    "import numpy as np\n",
    "import pandas as pd\n",
    "from flaml import AutoML\n",
    "from sklearn.model_selection import train_test_split\n",
    "from sklearn.metrics import classification_report, accuracy_score"
   ]
  },
  {
   "cell_type": "code",
   "execution_count": 3,
   "metadata": {},
   "outputs": [
    {
     "name": "stdout",
     "output_type": "stream",
     "text": [
      "2500000\n"
     ]
    },
    {
     "data": {
      "text/plain": [
       "Index(['Unnamed: 0', 'N°DPE', 'Configuration_installation_chauffage_n°2',\n",
       "       'Facteur_couverture_solaire_saisi',\n",
       "       'Surface_habitable_desservie_par_installation_ECS',\n",
       "       'Emission_GES_éclairage', 'Cage_d'escalier',\n",
       "       'Conso_5_usages_é_finale_énergie_n°2', 'Type_générateur_froid',\n",
       "       'Type_émetteur_installation_chauffage_n°2',\n",
       "       'Surface_totale_capteurs_photovoltaïque', 'Nom__commune_(Brut)',\n",
       "       'Conso_chauffage_dépensier_installation_chauffage_n°1',\n",
       "       'Coût_chauffage_énergie_n°2', 'Emission_GES_chauffage_énergie_n°2',\n",
       "       'Code_INSEE_(BAN)', 'Type_énergie_n°3', 'Etiquette_GES',\n",
       "       'Type_générateur_n°1_installation_n°2', 'Code_postal_(brut)',\n",
       "       'Description_générateur_chauffage_n°2_installation_n°2',\n",
       "       'Facteur_couverture_solaire', 'Année_construction', 'Classe_altitude',\n",
       "       'Code_postal_(BAN)', 'Conso_5_usages/m²_é_finale',\n",
       "       'Conso_5_usages_é_finale', 'Etiquette_DPE', 'Hauteur_sous-plafond',\n",
       "       'N°_département_(BAN)', 'Qualité_isolation_enveloppe',\n",
       "       'Qualité_isolation_menuiseries', 'Qualité_isolation_murs',\n",
       "       'Qualité_isolation_plancher_bas',\n",
       "       'Qualité_isolation_plancher_haut_comble_aménagé',\n",
       "       'Qualité_isolation_plancher_haut_comble_perdu',\n",
       "       'Qualité_isolation_plancher_haut_toit_terrase',\n",
       "       'Surface_habitable_immeuble', 'Surface_habitable_logement',\n",
       "       'Type_bâtiment'],\n",
       "      dtype='object')"
      ]
     },
     "execution_count": 3,
     "metadata": {},
     "output_type": "execute_result"
    }
   ],
   "source": [
    "df = pd.read_csv(\"data/train.csv\")\n",
    "print(len(df))\n",
    "df.columns"
   ]
  },
  {
   "cell_type": "code",
   "execution_count": 4,
   "metadata": {},
   "outputs": [],
   "source": [
    "df_cleaned = df.drop(columns=[\"Unnamed: 0\", \"N°DPE\"])"
   ]
  },
  {
   "cell_type": "code",
   "execution_count": 5,
   "metadata": {},
   "outputs": [],
   "source": [
    "y = df_cleaned[\"Etiquette_DPE\"]\n",
    "X = df_cleaned.drop(columns=[\"Etiquette_DPE\"])"
   ]
  },
  {
   "cell_type": "code",
   "execution_count": 6,
   "metadata": {},
   "outputs": [],
   "source": [
    "np.random.seed(0)"
   ]
  },
  {
   "cell_type": "code",
   "execution_count": 6,
   "metadata": {},
   "outputs": [],
   "source": [
    "# X_train, X_test, y_train, y_test = train_test_split(X, y, test_size=0.2, random_state=42)"
   ]
  },
  {
   "cell_type": "code",
   "execution_count": 7,
   "metadata": {},
   "outputs": [],
   "source": [
    "automl = AutoML()\n",
    "\n",
    "automl_settings = {\n",
    "    \"time_budget\": 480,\n",
    "    \"metric\": 'accuracy',\n",
    "    \"task\": 'classification',\n",
    "    \"log_file_name\": \"flaml.log\",\n",
    "}"
   ]
  },
  {
   "cell_type": "code",
   "execution_count": 8,
   "metadata": {},
   "outputs": [
    {
     "name": "stdout",
     "output_type": "stream",
     "text": [
      "[flaml.automl.logger: 01-09 22:12:42] {1693} INFO - task = classification\n",
      "[flaml.automl.logger: 01-09 22:12:42] {1700} INFO - Data split method: stratified\n",
      "[flaml.automl.logger: 01-09 22:12:42] {1703} INFO - Evaluation method: holdout\n",
      "[flaml.automl.logger: 01-09 22:12:44] {1801} INFO - Minimizing error metric: 1-accuracy\n",
      "[flaml.automl.logger: 01-09 22:12:44] {1911} INFO - List of ML learners in AutoML Run: ['lgbm', 'rf', 'xgboost', 'extra_tree', 'xgb_limitdepth', 'lrl1']\n",
      "[flaml.automl.logger: 01-09 22:12:44] {2221} INFO - iteration 0, current learner lgbm\n",
      "[flaml.automl.logger: 01-09 22:12:44] {2347} INFO - Estimated sufficient time budget=790164s. Estimated necessary time budget=18213s.\n",
      "[flaml.automl.logger: 01-09 22:12:44] {2394} INFO -  at 16.4s,\testimator lgbm's best error=0.1704,\tbest estimator lgbm's best error=0.1704\n",
      "[flaml.automl.logger: 01-09 22:12:44] {2221} INFO - iteration 1, current learner lgbm\n",
      "[flaml.automl.logger: 01-09 22:12:45] {2394} INFO -  at 16.8s,\testimator lgbm's best error=0.1704,\tbest estimator lgbm's best error=0.1704\n",
      "[flaml.automl.logger: 01-09 22:12:45] {2221} INFO - iteration 2, current learner lgbm\n",
      "[flaml.automl.logger: 01-09 22:12:45] {2394} INFO -  at 17.2s,\testimator lgbm's best error=0.1474,\tbest estimator lgbm's best error=0.1474\n",
      "[flaml.automl.logger: 01-09 22:12:45] {2221} INFO - iteration 3, current learner xgboost\n",
      "[flaml.automl.logger: 01-09 22:12:45] {2394} INFO -  at 17.4s,\testimator xgboost's best error=0.1904,\tbest estimator lgbm's best error=0.1474\n"
     ]
    },
    {
     "name": "stderr",
     "output_type": "stream",
     "text": [
      "c:\\Users\\colla\\AppData\\Local\\Programs\\Python\\Python311\\Lib\\site-packages\\xgboost\\sklearn.py:1395: UserWarning: `use_label_encoder` is deprecated in 1.7.0.\n",
      "  warnings.warn(\"`use_label_encoder` is deprecated in 1.7.0.\")\n"
     ]
    },
    {
     "name": "stdout",
     "output_type": "stream",
     "text": [
      "[flaml.automl.logger: 01-09 22:12:45] {2221} INFO - iteration 4, current learner lgbm\n",
      "[flaml.automl.logger: 01-09 22:12:46] {2394} INFO -  at 17.8s,\testimator lgbm's best error=0.1057,\tbest estimator lgbm's best error=0.1057\n",
      "[flaml.automl.logger: 01-09 22:12:46] {2221} INFO - iteration 5, current learner lgbm\n",
      "[flaml.automl.logger: 01-09 22:12:46] {2394} INFO -  at 18.1s,\testimator lgbm's best error=0.1057,\tbest estimator lgbm's best error=0.1057\n",
      "[flaml.automl.logger: 01-09 22:12:46] {2221} INFO - iteration 6, current learner lgbm\n",
      "[flaml.automl.logger: 01-09 22:12:46] {2394} INFO -  at 18.5s,\testimator lgbm's best error=0.1057,\tbest estimator lgbm's best error=0.1057\n",
      "[flaml.automl.logger: 01-09 22:12:46] {2221} INFO - iteration 7, current learner lgbm\n",
      "[flaml.automl.logger: 01-09 22:12:47] {2394} INFO -  at 18.9s,\testimator lgbm's best error=0.0986,\tbest estimator lgbm's best error=0.0986\n",
      "[flaml.automl.logger: 01-09 22:12:47] {2221} INFO - iteration 8, current learner xgboost\n",
      "[flaml.automl.logger: 01-09 22:12:47] {2394} INFO -  at 19.1s,\testimator xgboost's best error=0.1863,\tbest estimator lgbm's best error=0.0986\n",
      "[flaml.automl.logger: 01-09 22:12:47] {2221} INFO - iteration 9, current learner extra_tree\n"
     ]
    },
    {
     "name": "stderr",
     "output_type": "stream",
     "text": [
      "c:\\Users\\colla\\AppData\\Local\\Programs\\Python\\Python311\\Lib\\site-packages\\xgboost\\sklearn.py:1395: UserWarning: `use_label_encoder` is deprecated in 1.7.0.\n",
      "  warnings.warn(\"`use_label_encoder` is deprecated in 1.7.0.\")\n"
     ]
    },
    {
     "name": "stdout",
     "output_type": "stream",
     "text": [
      "[flaml.automl.logger: 01-09 22:12:47] {2394} INFO -  at 19.3s,\testimator extra_tree's best error=0.6242,\tbest estimator lgbm's best error=0.0986\n",
      "[flaml.automl.logger: 01-09 22:12:47] {2221} INFO - iteration 10, current learner extra_tree\n",
      "[flaml.automl.logger: 01-09 22:12:47] {2394} INFO -  at 19.4s,\testimator extra_tree's best error=0.3724,\tbest estimator lgbm's best error=0.0986\n",
      "[flaml.automl.logger: 01-09 22:12:47] {2221} INFO - iteration 11, current learner extra_tree\n",
      "[flaml.automl.logger: 01-09 22:12:47] {2394} INFO -  at 19.6s,\testimator extra_tree's best error=0.3724,\tbest estimator lgbm's best error=0.0986\n",
      "[flaml.automl.logger: 01-09 22:12:47] {2221} INFO - iteration 12, current learner extra_tree\n",
      "[flaml.automl.logger: 01-09 22:12:48] {2394} INFO -  at 19.7s,\testimator extra_tree's best error=0.3724,\tbest estimator lgbm's best error=0.0986\n",
      "[flaml.automl.logger: 01-09 22:12:48] {2221} INFO - iteration 13, current learner rf\n",
      "[flaml.automl.logger: 01-09 22:12:48] {2394} INFO -  at 19.9s,\testimator rf's best error=0.3989,\tbest estimator lgbm's best error=0.0986\n",
      "[flaml.automl.logger: 01-09 22:12:48] {2221} INFO - iteration 14, current learner rf\n",
      "[flaml.automl.logger: 01-09 22:12:48] {2394} INFO -  at 20.0s,\testimator rf's best error=0.3619,\tbest estimator lgbm's best error=0.0986\n",
      "[flaml.automl.logger: 01-09 22:12:48] {2221} INFO - iteration 15, current learner extra_tree\n",
      "[flaml.automl.logger: 01-09 22:12:48] {2394} INFO -  at 20.2s,\testimator extra_tree's best error=0.3724,\tbest estimator lgbm's best error=0.0986\n",
      "[flaml.automl.logger: 01-09 22:12:48] {2221} INFO - iteration 16, current learner lgbm\n",
      "[flaml.automl.logger: 01-09 22:12:48] {2394} INFO -  at 20.5s,\testimator lgbm's best error=0.0986,\tbest estimator lgbm's best error=0.0986\n",
      "[flaml.automl.logger: 01-09 22:12:48] {2221} INFO - iteration 17, current learner extra_tree\n",
      "[flaml.automl.logger: 01-09 22:12:49] {2394} INFO -  at 20.7s,\testimator extra_tree's best error=0.3724,\tbest estimator lgbm's best error=0.0986\n",
      "[flaml.automl.logger: 01-09 22:12:49] {2221} INFO - iteration 18, current learner lgbm\n",
      "[flaml.automl.logger: 01-09 22:12:49] {2394} INFO -  at 21.3s,\testimator lgbm's best error=0.0827,\tbest estimator lgbm's best error=0.0827\n",
      "[flaml.automl.logger: 01-09 22:12:49] {2221} INFO - iteration 19, current learner rf\n",
      "[flaml.automl.logger: 01-09 22:12:49] {2394} INFO -  at 21.5s,\testimator rf's best error=0.3619,\tbest estimator lgbm's best error=0.0827\n",
      "[flaml.automl.logger: 01-09 22:12:49] {2221} INFO - iteration 20, current learner lgbm\n",
      "[flaml.automl.logger: 01-09 22:12:50] {2394} INFO -  at 21.9s,\testimator lgbm's best error=0.0827,\tbest estimator lgbm's best error=0.0827\n",
      "[flaml.automl.logger: 01-09 22:12:50] {2221} INFO - iteration 21, current learner rf\n",
      "[flaml.automl.logger: 01-09 22:12:50] {2394} INFO -  at 22.1s,\testimator rf's best error=0.3619,\tbest estimator lgbm's best error=0.0827\n",
      "[flaml.automl.logger: 01-09 22:12:50] {2221} INFO - iteration 22, current learner lgbm\n",
      "[flaml.automl.logger: 01-09 22:12:52] {2394} INFO -  at 23.8s,\testimator lgbm's best error=0.0668,\tbest estimator lgbm's best error=0.0668\n",
      "[flaml.automl.logger: 01-09 22:12:52] {2221} INFO - iteration 23, current learner lgbm\n",
      "[flaml.automl.logger: 01-09 22:12:53] {2394} INFO -  at 25.5s,\testimator lgbm's best error=0.0668,\tbest estimator lgbm's best error=0.0668\n",
      "[flaml.automl.logger: 01-09 22:12:53] {2221} INFO - iteration 24, current learner extra_tree\n",
      "[flaml.automl.logger: 01-09 22:12:54] {2394} INFO -  at 25.7s,\testimator extra_tree's best error=0.3724,\tbest estimator lgbm's best error=0.0668\n",
      "[flaml.automl.logger: 01-09 22:12:54] {2221} INFO - iteration 25, current learner extra_tree\n",
      "[flaml.automl.logger: 01-09 22:12:54] {2394} INFO -  at 25.9s,\testimator extra_tree's best error=0.3724,\tbest estimator lgbm's best error=0.0668\n",
      "[flaml.automl.logger: 01-09 22:12:54] {2221} INFO - iteration 26, current learner lgbm\n",
      "[flaml.automl.logger: 01-09 22:12:55] {2394} INFO -  at 27.6s,\testimator lgbm's best error=0.0668,\tbest estimator lgbm's best error=0.0668\n",
      "[flaml.automl.logger: 01-09 22:12:55] {2221} INFO - iteration 27, current learner extra_tree\n",
      "[flaml.automl.logger: 01-09 22:12:56] {2394} INFO -  at 27.8s,\testimator extra_tree's best error=0.3724,\tbest estimator lgbm's best error=0.0668\n",
      "[flaml.automl.logger: 01-09 22:12:56] {2221} INFO - iteration 28, current learner extra_tree\n",
      "[flaml.automl.logger: 01-09 22:12:56] {2394} INFO -  at 28.0s,\testimator extra_tree's best error=0.3724,\tbest estimator lgbm's best error=0.0668\n",
      "[flaml.automl.logger: 01-09 22:12:56] {2221} INFO - iteration 29, current learner extra_tree\n",
      "[flaml.automl.logger: 01-09 22:12:56] {2394} INFO -  at 28.2s,\testimator extra_tree's best error=0.3724,\tbest estimator lgbm's best error=0.0668\n",
      "[flaml.automl.logger: 01-09 22:12:56] {2221} INFO - iteration 30, current learner lgbm\n",
      "[flaml.automl.logger: 01-09 22:12:58] {2394} INFO -  at 30.1s,\testimator lgbm's best error=0.0668,\tbest estimator lgbm's best error=0.0668\n",
      "[flaml.automl.logger: 01-09 22:12:58] {2221} INFO - iteration 31, current learner lgbm\n",
      "[flaml.automl.logger: 01-09 22:13:00] {2394} INFO -  at 31.7s,\testimator lgbm's best error=0.0614,\tbest estimator lgbm's best error=0.0614\n",
      "[flaml.automl.logger: 01-09 22:13:00] {2221} INFO - iteration 32, current learner lgbm\n",
      "[flaml.automl.logger: 01-09 22:13:01] {2394} INFO -  at 33.1s,\testimator lgbm's best error=0.0614,\tbest estimator lgbm's best error=0.0614\n",
      "[flaml.automl.logger: 01-09 22:13:01] {2221} INFO - iteration 33, current learner extra_tree\n",
      "[flaml.automl.logger: 01-09 22:13:01] {2394} INFO -  at 33.3s,\testimator extra_tree's best error=0.3724,\tbest estimator lgbm's best error=0.0614\n",
      "[flaml.automl.logger: 01-09 22:13:01] {2221} INFO - iteration 34, current learner lgbm\n",
      "[flaml.automl.logger: 01-09 22:13:03] {2394} INFO -  at 34.9s,\testimator lgbm's best error=0.0614,\tbest estimator lgbm's best error=0.0614\n",
      "[flaml.automl.logger: 01-09 22:13:03] {2221} INFO - iteration 35, current learner rf\n",
      "[flaml.automl.logger: 01-09 22:13:03] {2394} INFO -  at 35.1s,\testimator rf's best error=0.3487,\tbest estimator lgbm's best error=0.0614\n",
      "[flaml.automl.logger: 01-09 22:13:03] {2221} INFO - iteration 36, current learner extra_tree\n",
      "[flaml.automl.logger: 01-09 22:13:03] {2394} INFO -  at 35.3s,\testimator extra_tree's best error=0.3724,\tbest estimator lgbm's best error=0.0614\n",
      "[flaml.automl.logger: 01-09 22:13:03] {2221} INFO - iteration 37, current learner xgboost\n",
      "[flaml.automl.logger: 01-09 22:13:03] {2394} INFO -  at 35.5s,\testimator xgboost's best error=0.1766,\tbest estimator lgbm's best error=0.0614\n",
      "[flaml.automl.logger: 01-09 22:13:03] {2221} INFO - iteration 38, current learner xgboost\n"
     ]
    },
    {
     "name": "stderr",
     "output_type": "stream",
     "text": [
      "c:\\Users\\colla\\AppData\\Local\\Programs\\Python\\Python311\\Lib\\site-packages\\xgboost\\sklearn.py:1395: UserWarning: `use_label_encoder` is deprecated in 1.7.0.\n",
      "  warnings.warn(\"`use_label_encoder` is deprecated in 1.7.0.\")\n",
      "c:\\Users\\colla\\AppData\\Local\\Programs\\Python\\Python311\\Lib\\site-packages\\xgboost\\sklearn.py:1395: UserWarning: `use_label_encoder` is deprecated in 1.7.0.\n",
      "  warnings.warn(\"`use_label_encoder` is deprecated in 1.7.0.\")\n"
     ]
    },
    {
     "name": "stdout",
     "output_type": "stream",
     "text": [
      "[flaml.automl.logger: 01-09 22:13:04] {2394} INFO -  at 35.7s,\testimator xgboost's best error=0.1513,\tbest estimator lgbm's best error=0.0614\n",
      "[flaml.automl.logger: 01-09 22:13:04] {2221} INFO - iteration 39, current learner xgboost\n",
      "[flaml.automl.logger: 01-09 22:13:04] {2394} INFO -  at 35.8s,\testimator xgboost's best error=0.1125,\tbest estimator lgbm's best error=0.0614\n",
      "[flaml.automl.logger: 01-09 22:13:04] {2221} INFO - iteration 40, current learner xgboost\n"
     ]
    },
    {
     "name": "stderr",
     "output_type": "stream",
     "text": [
      "c:\\Users\\colla\\AppData\\Local\\Programs\\Python\\Python311\\Lib\\site-packages\\xgboost\\sklearn.py:1395: UserWarning: `use_label_encoder` is deprecated in 1.7.0.\n",
      "  warnings.warn(\"`use_label_encoder` is deprecated in 1.7.0.\")\n",
      "c:\\Users\\colla\\AppData\\Local\\Programs\\Python\\Python311\\Lib\\site-packages\\xgboost\\sklearn.py:1395: UserWarning: `use_label_encoder` is deprecated in 1.7.0.\n",
      "  warnings.warn(\"`use_label_encoder` is deprecated in 1.7.0.\")\n"
     ]
    },
    {
     "name": "stdout",
     "output_type": "stream",
     "text": [
      "[flaml.automl.logger: 01-09 22:13:04] {2394} INFO -  at 36.0s,\testimator xgboost's best error=0.1125,\tbest estimator lgbm's best error=0.0614\n",
      "[flaml.automl.logger: 01-09 22:13:04] {2221} INFO - iteration 41, current learner xgboost\n"
     ]
    },
    {
     "name": "stderr",
     "output_type": "stream",
     "text": [
      "c:\\Users\\colla\\AppData\\Local\\Programs\\Python\\Python311\\Lib\\site-packages\\xgboost\\sklearn.py:1395: UserWarning: `use_label_encoder` is deprecated in 1.7.0.\n",
      "  warnings.warn(\"`use_label_encoder` is deprecated in 1.7.0.\")\n"
     ]
    },
    {
     "name": "stdout",
     "output_type": "stream",
     "text": [
      "[flaml.automl.logger: 01-09 22:13:04] {2394} INFO -  at 36.3s,\testimator xgboost's best error=0.0849,\tbest estimator lgbm's best error=0.0614\n",
      "[flaml.automl.logger: 01-09 22:13:04] {2221} INFO - iteration 42, current learner lgbm\n",
      "[flaml.automl.logger: 01-09 22:13:05] {2394} INFO -  at 37.6s,\testimator lgbm's best error=0.0614,\tbest estimator lgbm's best error=0.0614\n",
      "[flaml.automl.logger: 01-09 22:13:05] {2221} INFO - iteration 43, current learner xgboost\n"
     ]
    },
    {
     "name": "stderr",
     "output_type": "stream",
     "text": [
      "c:\\Users\\colla\\AppData\\Local\\Programs\\Python\\Python311\\Lib\\site-packages\\xgboost\\sklearn.py:1395: UserWarning: `use_label_encoder` is deprecated in 1.7.0.\n",
      "  warnings.warn(\"`use_label_encoder` is deprecated in 1.7.0.\")\n"
     ]
    },
    {
     "name": "stdout",
     "output_type": "stream",
     "text": [
      "[flaml.automl.logger: 01-09 22:13:06] {2394} INFO -  at 38.0s,\testimator xgboost's best error=0.0761,\tbest estimator lgbm's best error=0.0614\n",
      "[flaml.automl.logger: 01-09 22:13:06] {2221} INFO - iteration 44, current learner extra_tree\n",
      "[flaml.automl.logger: 01-09 22:13:06] {2394} INFO -  at 38.2s,\testimator extra_tree's best error=0.3724,\tbest estimator lgbm's best error=0.0614\n",
      "[flaml.automl.logger: 01-09 22:13:06] {2221} INFO - iteration 45, current learner xgboost\n"
     ]
    },
    {
     "name": "stderr",
     "output_type": "stream",
     "text": [
      "c:\\Users\\colla\\AppData\\Local\\Programs\\Python\\Python311\\Lib\\site-packages\\xgboost\\sklearn.py:1395: UserWarning: `use_label_encoder` is deprecated in 1.7.0.\n",
      "  warnings.warn(\"`use_label_encoder` is deprecated in 1.7.0.\")\n"
     ]
    },
    {
     "name": "stdout",
     "output_type": "stream",
     "text": [
      "[flaml.automl.logger: 01-09 22:13:06] {2394} INFO -  at 38.5s,\testimator xgboost's best error=0.0761,\tbest estimator lgbm's best error=0.0614\n",
      "[flaml.automl.logger: 01-09 22:13:06] {2221} INFO - iteration 46, current learner xgboost\n"
     ]
    },
    {
     "name": "stderr",
     "output_type": "stream",
     "text": [
      "c:\\Users\\colla\\AppData\\Local\\Programs\\Python\\Python311\\Lib\\site-packages\\xgboost\\sklearn.py:1395: UserWarning: `use_label_encoder` is deprecated in 1.7.0.\n",
      "  warnings.warn(\"`use_label_encoder` is deprecated in 1.7.0.\")\n"
     ]
    },
    {
     "name": "stdout",
     "output_type": "stream",
     "text": [
      "[flaml.automl.logger: 01-09 22:13:07] {2394} INFO -  at 38.9s,\testimator xgboost's best error=0.0633,\tbest estimator lgbm's best error=0.0614\n",
      "[flaml.automl.logger: 01-09 22:13:07] {2221} INFO - iteration 47, current learner xgboost\n"
     ]
    },
    {
     "name": "stderr",
     "output_type": "stream",
     "text": [
      "c:\\Users\\colla\\AppData\\Local\\Programs\\Python\\Python311\\Lib\\site-packages\\xgboost\\sklearn.py:1395: UserWarning: `use_label_encoder` is deprecated in 1.7.0.\n",
      "  warnings.warn(\"`use_label_encoder` is deprecated in 1.7.0.\")\n"
     ]
    },
    {
     "name": "stdout",
     "output_type": "stream",
     "text": [
      "[flaml.automl.logger: 01-09 22:13:07] {2394} INFO -  at 39.3s,\testimator xgboost's best error=0.0633,\tbest estimator lgbm's best error=0.0614\n",
      "[flaml.automl.logger: 01-09 22:13:07] {2221} INFO - iteration 48, current learner rf\n",
      "[flaml.automl.logger: 01-09 22:13:07] {2394} INFO -  at 39.6s,\testimator rf's best error=0.3458,\tbest estimator lgbm's best error=0.0614\n",
      "[flaml.automl.logger: 01-09 22:13:07] {2221} INFO - iteration 49, current learner xgboost\n"
     ]
    },
    {
     "name": "stderr",
     "output_type": "stream",
     "text": [
      "c:\\Users\\colla\\AppData\\Local\\Programs\\Python\\Python311\\Lib\\site-packages\\xgboost\\sklearn.py:1395: UserWarning: `use_label_encoder` is deprecated in 1.7.0.\n",
      "  warnings.warn(\"`use_label_encoder` is deprecated in 1.7.0.\")\n"
     ]
    },
    {
     "name": "stdout",
     "output_type": "stream",
     "text": [
      "[flaml.automl.logger: 01-09 22:13:08] {2394} INFO -  at 39.8s,\testimator xgboost's best error=0.0633,\tbest estimator lgbm's best error=0.0614\n",
      "[flaml.automl.logger: 01-09 22:13:08] {2221} INFO - iteration 50, current learner extra_tree\n",
      "[flaml.automl.logger: 01-09 22:13:08] {2394} INFO -  at 40.1s,\testimator extra_tree's best error=0.3724,\tbest estimator lgbm's best error=0.0614\n",
      "[flaml.automl.logger: 01-09 22:13:08] {2221} INFO - iteration 51, current learner xgboost\n"
     ]
    },
    {
     "name": "stderr",
     "output_type": "stream",
     "text": [
      "c:\\Users\\colla\\AppData\\Local\\Programs\\Python\\Python311\\Lib\\site-packages\\xgboost\\sklearn.py:1395: UserWarning: `use_label_encoder` is deprecated in 1.7.0.\n",
      "  warnings.warn(\"`use_label_encoder` is deprecated in 1.7.0.\")\n"
     ]
    },
    {
     "name": "stdout",
     "output_type": "stream",
     "text": [
      "[flaml.automl.logger: 01-09 22:13:09] {2394} INFO -  at 40.8s,\testimator xgboost's best error=0.0633,\tbest estimator lgbm's best error=0.0614\n",
      "[flaml.automl.logger: 01-09 22:13:09] {2221} INFO - iteration 52, current learner xgboost\n"
     ]
    },
    {
     "name": "stderr",
     "output_type": "stream",
     "text": [
      "c:\\Users\\colla\\AppData\\Local\\Programs\\Python\\Python311\\Lib\\site-packages\\xgboost\\sklearn.py:1395: UserWarning: `use_label_encoder` is deprecated in 1.7.0.\n",
      "  warnings.warn(\"`use_label_encoder` is deprecated in 1.7.0.\")\n"
     ]
    },
    {
     "name": "stdout",
     "output_type": "stream",
     "text": [
      "[flaml.automl.logger: 01-09 22:13:09] {2394} INFO -  at 41.0s,\testimator xgboost's best error=0.0633,\tbest estimator lgbm's best error=0.0614\n",
      "[flaml.automl.logger: 01-09 22:13:09] {2221} INFO - iteration 53, current learner lgbm\n",
      "[flaml.automl.logger: 01-09 22:13:11] {2394} INFO -  at 42.9s,\testimator lgbm's best error=0.0614,\tbest estimator lgbm's best error=0.0614\n",
      "[flaml.automl.logger: 01-09 22:13:11] {2221} INFO - iteration 54, current learner lgbm\n",
      "[flaml.automl.logger: 01-09 22:13:15] {2394} INFO -  at 47.4s,\testimator lgbm's best error=0.0454,\tbest estimator lgbm's best error=0.0454\n",
      "[flaml.automl.logger: 01-09 22:13:15] {2221} INFO - iteration 55, current learner extra_tree\n",
      "[flaml.automl.logger: 01-09 22:13:16] {2394} INFO -  at 47.7s,\testimator extra_tree's best error=0.3724,\tbest estimator lgbm's best error=0.0454\n",
      "[flaml.automl.logger: 01-09 22:13:16] {2221} INFO - iteration 56, current learner lgbm\n",
      "[flaml.automl.logger: 01-09 22:13:17] {2394} INFO -  at 49.6s,\testimator lgbm's best error=0.0454,\tbest estimator lgbm's best error=0.0454\n",
      "[flaml.automl.logger: 01-09 22:13:17] {2221} INFO - iteration 57, current learner rf\n",
      "[flaml.automl.logger: 01-09 22:13:18] {2394} INFO -  at 49.8s,\testimator rf's best error=0.2994,\tbest estimator lgbm's best error=0.0454\n",
      "[flaml.automl.logger: 01-09 22:13:18] {2221} INFO - iteration 58, current learner rf\n",
      "[flaml.automl.logger: 01-09 22:13:18] {2394} INFO -  at 50.1s,\testimator rf's best error=0.2060,\tbest estimator lgbm's best error=0.0454\n",
      "[flaml.automl.logger: 01-09 22:13:18] {2221} INFO - iteration 59, current learner lgbm\n",
      "[flaml.automl.logger: 01-09 22:13:23] {2394} INFO -  at 55.6s,\testimator lgbm's best error=0.0454,\tbest estimator lgbm's best error=0.0454\n",
      "[flaml.automl.logger: 01-09 22:13:23] {2221} INFO - iteration 60, current learner rf\n",
      "[flaml.automl.logger: 01-09 22:13:24] {2394} INFO -  at 55.8s,\testimator rf's best error=0.2060,\tbest estimator lgbm's best error=0.0454\n",
      "[flaml.automl.logger: 01-09 22:13:24] {2221} INFO - iteration 61, current learner rf\n",
      "[flaml.automl.logger: 01-09 22:13:24] {2394} INFO -  at 56.1s,\testimator rf's best error=0.2060,\tbest estimator lgbm's best error=0.0454\n",
      "[flaml.automl.logger: 01-09 22:13:24] {2221} INFO - iteration 62, current learner rf\n",
      "[flaml.automl.logger: 01-09 22:13:24] {2394} INFO -  at 56.4s,\testimator rf's best error=0.1301,\tbest estimator lgbm's best error=0.0454\n",
      "[flaml.automl.logger: 01-09 22:13:24] {2221} INFO - iteration 63, current learner xgboost\n"
     ]
    },
    {
     "name": "stderr",
     "output_type": "stream",
     "text": [
      "c:\\Users\\colla\\AppData\\Local\\Programs\\Python\\Python311\\Lib\\site-packages\\xgboost\\sklearn.py:1395: UserWarning: `use_label_encoder` is deprecated in 1.7.0.\n",
      "  warnings.warn(\"`use_label_encoder` is deprecated in 1.7.0.\")\n"
     ]
    },
    {
     "name": "stdout",
     "output_type": "stream",
     "text": [
      "[flaml.automl.logger: 01-09 22:13:25] {2394} INFO -  at 57.2s,\testimator xgboost's best error=0.0633,\tbest estimator lgbm's best error=0.0454\n",
      "[flaml.automl.logger: 01-09 22:13:25] {2221} INFO - iteration 64, current learner lgbm\n",
      "[flaml.automl.logger: 01-09 22:13:32] {2394} INFO -  at 64.3s,\testimator lgbm's best error=0.0454,\tbest estimator lgbm's best error=0.0454\n",
      "[flaml.automl.logger: 01-09 22:13:32] {2221} INFO - iteration 65, current learner rf\n",
      "[flaml.automl.logger: 01-09 22:13:32] {2394} INFO -  at 64.6s,\testimator rf's best error=0.1301,\tbest estimator lgbm's best error=0.0454\n",
      "[flaml.automl.logger: 01-09 22:13:32] {2221} INFO - iteration 66, current learner xgboost\n"
     ]
    },
    {
     "name": "stderr",
     "output_type": "stream",
     "text": [
      "c:\\Users\\colla\\AppData\\Local\\Programs\\Python\\Python311\\Lib\\site-packages\\xgboost\\sklearn.py:1395: UserWarning: `use_label_encoder` is deprecated in 1.7.0.\n",
      "  warnings.warn(\"`use_label_encoder` is deprecated in 1.7.0.\")\n"
     ]
    },
    {
     "name": "stdout",
     "output_type": "stream",
     "text": [
      "[flaml.automl.logger: 01-09 22:13:33] {2394} INFO -  at 65.5s,\testimator xgboost's best error=0.0510,\tbest estimator lgbm's best error=0.0454\n",
      "[flaml.automl.logger: 01-09 22:13:33] {2221} INFO - iteration 67, current learner rf\n",
      "[flaml.automl.logger: 01-09 22:13:34] {2394} INFO -  at 65.9s,\testimator rf's best error=0.1171,\tbest estimator lgbm's best error=0.0454\n",
      "[flaml.automl.logger: 01-09 22:13:34] {2221} INFO - iteration 68, current learner lgbm\n",
      "[flaml.automl.logger: 01-09 22:13:38] {2394} INFO -  at 69.9s,\testimator lgbm's best error=0.0454,\tbest estimator lgbm's best error=0.0454\n",
      "[flaml.automl.logger: 01-09 22:13:38] {2221} INFO - iteration 69, current learner xgboost\n"
     ]
    },
    {
     "name": "stderr",
     "output_type": "stream",
     "text": [
      "c:\\Users\\colla\\AppData\\Local\\Programs\\Python\\Python311\\Lib\\site-packages\\xgboost\\sklearn.py:1395: UserWarning: `use_label_encoder` is deprecated in 1.7.0.\n",
      "  warnings.warn(\"`use_label_encoder` is deprecated in 1.7.0.\")\n"
     ]
    },
    {
     "name": "stdout",
     "output_type": "stream",
     "text": [
      "[flaml.automl.logger: 01-09 22:13:38] {2394} INFO -  at 70.6s,\testimator xgboost's best error=0.0510,\tbest estimator lgbm's best error=0.0454\n",
      "[flaml.automl.logger: 01-09 22:13:38] {2221} INFO - iteration 70, current learner xgboost\n"
     ]
    },
    {
     "name": "stderr",
     "output_type": "stream",
     "text": [
      "c:\\Users\\colla\\AppData\\Local\\Programs\\Python\\Python311\\Lib\\site-packages\\xgboost\\sklearn.py:1395: UserWarning: `use_label_encoder` is deprecated in 1.7.0.\n",
      "  warnings.warn(\"`use_label_encoder` is deprecated in 1.7.0.\")\n"
     ]
    },
    {
     "name": "stdout",
     "output_type": "stream",
     "text": [
      "[flaml.automl.logger: 01-09 22:13:41] {2394} INFO -  at 72.8s,\testimator xgboost's best error=0.0469,\tbest estimator lgbm's best error=0.0454\n",
      "[flaml.automl.logger: 01-09 22:13:41] {2221} INFO - iteration 71, current learner xgboost\n"
     ]
    },
    {
     "name": "stderr",
     "output_type": "stream",
     "text": [
      "c:\\Users\\colla\\AppData\\Local\\Programs\\Python\\Python311\\Lib\\site-packages\\xgboost\\sklearn.py:1395: UserWarning: `use_label_encoder` is deprecated in 1.7.0.\n",
      "  warnings.warn(\"`use_label_encoder` is deprecated in 1.7.0.\")\n"
     ]
    },
    {
     "name": "stdout",
     "output_type": "stream",
     "text": [
      "[flaml.automl.logger: 01-09 22:13:41] {2394} INFO -  at 73.6s,\testimator xgboost's best error=0.0469,\tbest estimator lgbm's best error=0.0454\n",
      "[flaml.automl.logger: 01-09 22:13:41] {2221} INFO - iteration 72, current learner extra_tree\n",
      "[flaml.automl.logger: 01-09 22:13:42] {2394} INFO -  at 74.1s,\testimator extra_tree's best error=0.3308,\tbest estimator lgbm's best error=0.0454\n",
      "[flaml.automl.logger: 01-09 22:13:42] {2221} INFO - iteration 73, current learner xgboost\n"
     ]
    },
    {
     "name": "stderr",
     "output_type": "stream",
     "text": [
      "c:\\Users\\colla\\AppData\\Local\\Programs\\Python\\Python311\\Lib\\site-packages\\xgboost\\sklearn.py:1395: UserWarning: `use_label_encoder` is deprecated in 1.7.0.\n",
      "  warnings.warn(\"`use_label_encoder` is deprecated in 1.7.0.\")\n"
     ]
    },
    {
     "name": "stdout",
     "output_type": "stream",
     "text": [
      "[flaml.automl.logger: 01-09 22:13:46] {2394} INFO -  at 78.3s,\testimator xgboost's best error=0.0438,\tbest estimator xgboost's best error=0.0438\n",
      "[flaml.automl.logger: 01-09 22:13:46] {2221} INFO - iteration 74, current learner xgboost\n"
     ]
    },
    {
     "name": "stderr",
     "output_type": "stream",
     "text": [
      "c:\\Users\\colla\\AppData\\Local\\Programs\\Python\\Python311\\Lib\\site-packages\\xgboost\\sklearn.py:1395: UserWarning: `use_label_encoder` is deprecated in 1.7.0.\n",
      "  warnings.warn(\"`use_label_encoder` is deprecated in 1.7.0.\")\n"
     ]
    },
    {
     "name": "stdout",
     "output_type": "stream",
     "text": [
      "[flaml.automl.logger: 01-09 22:13:48] {2394} INFO -  at 79.7s,\testimator xgboost's best error=0.0438,\tbest estimator xgboost's best error=0.0438\n",
      "[flaml.automl.logger: 01-09 22:13:48] {2221} INFO - iteration 75, current learner rf\n",
      "[flaml.automl.logger: 01-09 22:13:48] {2394} INFO -  at 80.1s,\testimator rf's best error=0.1110,\tbest estimator xgboost's best error=0.0438\n",
      "[flaml.automl.logger: 01-09 22:13:48] {2221} INFO - iteration 76, current learner lgbm\n",
      "[flaml.automl.logger: 01-09 22:14:04] {2394} INFO -  at 95.7s,\testimator lgbm's best error=0.0372,\tbest estimator lgbm's best error=0.0372\n",
      "[flaml.automl.logger: 01-09 22:14:04] {2221} INFO - iteration 77, current learner xgboost\n"
     ]
    },
    {
     "name": "stderr",
     "output_type": "stream",
     "text": [
      "c:\\Users\\colla\\AppData\\Local\\Programs\\Python\\Python311\\Lib\\site-packages\\xgboost\\sklearn.py:1395: UserWarning: `use_label_encoder` is deprecated in 1.7.0.\n",
      "  warnings.warn(\"`use_label_encoder` is deprecated in 1.7.0.\")\n"
     ]
    },
    {
     "name": "stdout",
     "output_type": "stream",
     "text": [
      "[flaml.automl.logger: 01-09 22:14:07] {2394} INFO -  at 99.3s,\testimator xgboost's best error=0.0438,\tbest estimator lgbm's best error=0.0372\n",
      "[flaml.automl.logger: 01-09 22:14:07] {2221} INFO - iteration 78, current learner rf\n",
      "[flaml.automl.logger: 01-09 22:14:07] {2394} INFO -  at 99.6s,\testimator rf's best error=0.1110,\tbest estimator lgbm's best error=0.0372\n",
      "[flaml.automl.logger: 01-09 22:14:07] {2221} INFO - iteration 79, current learner lgbm\n",
      "[flaml.automl.logger: 01-09 22:14:21] {2394} INFO -  at 113.6s,\testimator lgbm's best error=0.0372,\tbest estimator lgbm's best error=0.0372\n",
      "[flaml.automl.logger: 01-09 22:14:21] {2221} INFO - iteration 80, current learner extra_tree\n",
      "[flaml.automl.logger: 01-09 22:14:22] {2394} INFO -  at 114.1s,\testimator extra_tree's best error=0.3308,\tbest estimator lgbm's best error=0.0372\n",
      "[flaml.automl.logger: 01-09 22:14:22] {2221} INFO - iteration 81, current learner rf\n",
      "[flaml.automl.logger: 01-09 22:14:22] {2394} INFO -  at 114.4s,\testimator rf's best error=0.1005,\tbest estimator lgbm's best error=0.0372\n",
      "[flaml.automl.logger: 01-09 22:14:22] {2221} INFO - iteration 82, current learner rf\n",
      "[flaml.automl.logger: 01-09 22:14:23] {2394} INFO -  at 114.8s,\testimator rf's best error=0.1005,\tbest estimator lgbm's best error=0.0372\n",
      "[flaml.automl.logger: 01-09 22:14:23] {2221} INFO - iteration 83, current learner xgboost\n"
     ]
    },
    {
     "name": "stderr",
     "output_type": "stream",
     "text": [
      "c:\\Users\\colla\\AppData\\Local\\Programs\\Python\\Python311\\Lib\\site-packages\\xgboost\\sklearn.py:1395: UserWarning: `use_label_encoder` is deprecated in 1.7.0.\n",
      "  warnings.warn(\"`use_label_encoder` is deprecated in 1.7.0.\")\n"
     ]
    },
    {
     "name": "stdout",
     "output_type": "stream",
     "text": [
      "[flaml.automl.logger: 01-09 22:14:26] {2394} INFO -  at 118.3s,\testimator xgboost's best error=0.0438,\tbest estimator lgbm's best error=0.0372\n",
      "[flaml.automl.logger: 01-09 22:14:26] {2221} INFO - iteration 84, current learner extra_tree\n",
      "[flaml.automl.logger: 01-09 22:14:27] {2394} INFO -  at 118.8s,\testimator extra_tree's best error=0.3308,\tbest estimator lgbm's best error=0.0372\n",
      "[flaml.automl.logger: 01-09 22:14:27] {2221} INFO - iteration 85, current learner rf\n",
      "[flaml.automl.logger: 01-09 22:14:27] {2394} INFO -  at 119.1s,\testimator rf's best error=0.1005,\tbest estimator lgbm's best error=0.0372\n",
      "[flaml.automl.logger: 01-09 22:14:27] {2221} INFO - iteration 86, current learner xgboost\n"
     ]
    },
    {
     "name": "stderr",
     "output_type": "stream",
     "text": [
      "c:\\Users\\colla\\AppData\\Local\\Programs\\Python\\Python311\\Lib\\site-packages\\xgboost\\sklearn.py:1395: UserWarning: `use_label_encoder` is deprecated in 1.7.0.\n",
      "  warnings.warn(\"`use_label_encoder` is deprecated in 1.7.0.\")\n"
     ]
    },
    {
     "name": "stdout",
     "output_type": "stream",
     "text": [
      "[flaml.automl.logger: 01-09 22:14:31] {2394} INFO -  at 122.8s,\testimator xgboost's best error=0.0438,\tbest estimator lgbm's best error=0.0372\n",
      "[flaml.automl.logger: 01-09 22:14:31] {2221} INFO - iteration 87, current learner rf\n",
      "[flaml.automl.logger: 01-09 22:14:31] {2394} INFO -  at 123.2s,\testimator rf's best error=0.0694,\tbest estimator lgbm's best error=0.0372\n",
      "[flaml.automl.logger: 01-09 22:14:31] {2221} INFO - iteration 88, current learner rf\n",
      "[flaml.automl.logger: 01-09 22:14:31] {2394} INFO -  at 123.6s,\testimator rf's best error=0.0680,\tbest estimator lgbm's best error=0.0372\n",
      "[flaml.automl.logger: 01-09 22:14:31] {2221} INFO - iteration 89, current learner extra_tree\n",
      "[flaml.automl.logger: 01-09 22:14:32] {2394} INFO -  at 124.4s,\testimator extra_tree's best error=0.2975,\tbest estimator lgbm's best error=0.0372\n",
      "[flaml.automl.logger: 01-09 22:14:32] {2221} INFO - iteration 90, current learner rf\n",
      "[flaml.automl.logger: 01-09 22:14:33] {2394} INFO -  at 124.8s,\testimator rf's best error=0.0680,\tbest estimator lgbm's best error=0.0372\n",
      "[flaml.automl.logger: 01-09 22:14:33] {2221} INFO - iteration 91, current learner xgb_limitdepth\n"
     ]
    },
    {
     "name": "stderr",
     "output_type": "stream",
     "text": [
      "c:\\Users\\colla\\AppData\\Local\\Programs\\Python\\Python311\\Lib\\site-packages\\xgboost\\sklearn.py:1395: UserWarning: `use_label_encoder` is deprecated in 1.7.0.\n",
      "  warnings.warn(\"`use_label_encoder` is deprecated in 1.7.0.\")\n"
     ]
    },
    {
     "name": "stdout",
     "output_type": "stream",
     "text": [
      "[flaml.automl.logger: 01-09 22:14:33] {2394} INFO -  at 125.3s,\testimator xgb_limitdepth's best error=0.0668,\tbest estimator lgbm's best error=0.0372\n",
      "[flaml.automl.logger: 01-09 22:14:33] {2221} INFO - iteration 92, current learner xgb_limitdepth\n"
     ]
    },
    {
     "name": "stderr",
     "output_type": "stream",
     "text": [
      "c:\\Users\\colla\\AppData\\Local\\Programs\\Python\\Python311\\Lib\\site-packages\\xgboost\\sklearn.py:1395: UserWarning: `use_label_encoder` is deprecated in 1.7.0.\n",
      "  warnings.warn(\"`use_label_encoder` is deprecated in 1.7.0.\")\n"
     ]
    },
    {
     "name": "stdout",
     "output_type": "stream",
     "text": [
      "[flaml.automl.logger: 01-09 22:14:34] {2394} INFO -  at 125.7s,\testimator xgb_limitdepth's best error=0.0668,\tbest estimator lgbm's best error=0.0372\n",
      "[flaml.automl.logger: 01-09 22:14:34] {2221} INFO - iteration 93, current learner xgb_limitdepth\n"
     ]
    },
    {
     "name": "stderr",
     "output_type": "stream",
     "text": [
      "c:\\Users\\colla\\AppData\\Local\\Programs\\Python\\Python311\\Lib\\site-packages\\xgboost\\sklearn.py:1395: UserWarning: `use_label_encoder` is deprecated in 1.7.0.\n",
      "  warnings.warn(\"`use_label_encoder` is deprecated in 1.7.0.\")\n"
     ]
    },
    {
     "name": "stdout",
     "output_type": "stream",
     "text": [
      "[flaml.automl.logger: 01-09 22:14:34] {2394} INFO -  at 126.2s,\testimator xgb_limitdepth's best error=0.0636,\tbest estimator lgbm's best error=0.0372\n",
      "[flaml.automl.logger: 01-09 22:14:34] {2221} INFO - iteration 94, current learner xgb_limitdepth\n"
     ]
    },
    {
     "name": "stderr",
     "output_type": "stream",
     "text": [
      "c:\\Users\\colla\\AppData\\Local\\Programs\\Python\\Python311\\Lib\\site-packages\\xgboost\\sklearn.py:1395: UserWarning: `use_label_encoder` is deprecated in 1.7.0.\n",
      "  warnings.warn(\"`use_label_encoder` is deprecated in 1.7.0.\")\n"
     ]
    },
    {
     "name": "stdout",
     "output_type": "stream",
     "text": [
      "[flaml.automl.logger: 01-09 22:14:35] {2394} INFO -  at 126.7s,\testimator xgb_limitdepth's best error=0.0636,\tbest estimator lgbm's best error=0.0372\n",
      "[flaml.automl.logger: 01-09 22:14:35] {2221} INFO - iteration 95, current learner lgbm\n",
      "[flaml.automl.logger: 01-09 22:14:45] {2394} INFO -  at 137.0s,\testimator lgbm's best error=0.0342,\tbest estimator lgbm's best error=0.0342\n",
      "[flaml.automl.logger: 01-09 22:14:45] {2221} INFO - iteration 96, current learner xgb_limitdepth\n"
     ]
    },
    {
     "name": "stderr",
     "output_type": "stream",
     "text": [
      "c:\\Users\\colla\\AppData\\Local\\Programs\\Python\\Python311\\Lib\\site-packages\\xgboost\\sklearn.py:1395: UserWarning: `use_label_encoder` is deprecated in 1.7.0.\n",
      "  warnings.warn(\"`use_label_encoder` is deprecated in 1.7.0.\")\n"
     ]
    },
    {
     "name": "stdout",
     "output_type": "stream",
     "text": [
      "[flaml.automl.logger: 01-09 22:14:45] {2394} INFO -  at 137.5s,\testimator xgb_limitdepth's best error=0.0636,\tbest estimator lgbm's best error=0.0342\n",
      "[flaml.automl.logger: 01-09 22:14:45] {2221} INFO - iteration 97, current learner rf\n",
      "[flaml.automl.logger: 01-09 22:14:46] {2394} INFO -  at 137.9s,\testimator rf's best error=0.0680,\tbest estimator lgbm's best error=0.0342\n",
      "[flaml.automl.logger: 01-09 22:14:46] {2221} INFO - iteration 98, current learner extra_tree\n",
      "[flaml.automl.logger: 01-09 22:14:46] {2394} INFO -  at 138.5s,\testimator extra_tree's best error=0.2137,\tbest estimator lgbm's best error=0.0342\n",
      "[flaml.automl.logger: 01-09 22:14:46] {2221} INFO - iteration 99, current learner extra_tree\n",
      "[flaml.automl.logger: 01-09 22:14:47] {2394} INFO -  at 139.0s,\testimator extra_tree's best error=0.2137,\tbest estimator lgbm's best error=0.0342\n",
      "[flaml.automl.logger: 01-09 22:14:47] {2221} INFO - iteration 100, current learner extra_tree\n",
      "[flaml.automl.logger: 01-09 22:14:47] {2394} INFO -  at 139.6s,\testimator extra_tree's best error=0.2036,\tbest estimator lgbm's best error=0.0342\n",
      "[flaml.automl.logger: 01-09 22:14:47] {2221} INFO - iteration 101, current learner xgb_limitdepth\n"
     ]
    },
    {
     "name": "stderr",
     "output_type": "stream",
     "text": [
      "c:\\Users\\colla\\AppData\\Local\\Programs\\Python\\Python311\\Lib\\site-packages\\xgboost\\sklearn.py:1395: UserWarning: `use_label_encoder` is deprecated in 1.7.0.\n",
      "  warnings.warn(\"`use_label_encoder` is deprecated in 1.7.0.\")\n"
     ]
    },
    {
     "name": "stdout",
     "output_type": "stream",
     "text": [
      "[flaml.automl.logger: 01-09 22:14:48] {2394} INFO -  at 139.8s,\testimator xgb_limitdepth's best error=0.0636,\tbest estimator lgbm's best error=0.0342\n",
      "[flaml.automl.logger: 01-09 22:14:48] {2221} INFO - iteration 102, current learner extra_tree\n",
      "[flaml.automl.logger: 01-09 22:14:48] {2394} INFO -  at 140.5s,\testimator extra_tree's best error=0.2036,\tbest estimator lgbm's best error=0.0342\n",
      "[flaml.automl.logger: 01-09 22:14:48] {2221} INFO - iteration 103, current learner lgbm\n",
      "[flaml.automl.logger: 01-09 22:15:01] {2394} INFO -  at 153.4s,\testimator lgbm's best error=0.0342,\tbest estimator lgbm's best error=0.0342\n",
      "[flaml.automl.logger: 01-09 22:15:01] {2221} INFO - iteration 104, current learner extra_tree\n",
      "[flaml.automl.logger: 01-09 22:15:02] {2394} INFO -  at 154.1s,\testimator extra_tree's best error=0.2036,\tbest estimator lgbm's best error=0.0342\n",
      "[flaml.automl.logger: 01-09 22:15:02] {2221} INFO - iteration 105, current learner lgbm\n",
      "[flaml.automl.logger: 01-09 22:15:11] {2394} INFO -  at 163.3s,\testimator lgbm's best error=0.0342,\tbest estimator lgbm's best error=0.0342\n",
      "[flaml.automl.logger: 01-09 22:15:11] {2221} INFO - iteration 106, current learner rf\n",
      "[flaml.automl.logger: 01-09 22:15:11] {2394} INFO -  at 163.6s,\testimator rf's best error=0.0680,\tbest estimator lgbm's best error=0.0342\n",
      "[flaml.automl.logger: 01-09 22:15:11] {2221} INFO - iteration 107, current learner xgb_limitdepth\n"
     ]
    },
    {
     "name": "stderr",
     "output_type": "stream",
     "text": [
      "c:\\Users\\colla\\AppData\\Local\\Programs\\Python\\Python311\\Lib\\site-packages\\xgboost\\sklearn.py:1395: UserWarning: `use_label_encoder` is deprecated in 1.7.0.\n",
      "  warnings.warn(\"`use_label_encoder` is deprecated in 1.7.0.\")\n"
     ]
    },
    {
     "name": "stdout",
     "output_type": "stream",
     "text": [
      "[flaml.automl.logger: 01-09 22:15:12] {2394} INFO -  at 164.5s,\testimator xgb_limitdepth's best error=0.0596,\tbest estimator lgbm's best error=0.0342\n",
      "[flaml.automl.logger: 01-09 22:15:12] {2221} INFO - iteration 108, current learner lgbm\n",
      "[flaml.automl.logger: 01-09 22:15:25] {2394} INFO -  at 177.5s,\testimator lgbm's best error=0.0342,\tbest estimator lgbm's best error=0.0342\n",
      "[flaml.automl.logger: 01-09 22:15:25] {2221} INFO - iteration 109, current learner xgb_limitdepth\n"
     ]
    },
    {
     "name": "stderr",
     "output_type": "stream",
     "text": [
      "c:\\Users\\colla\\AppData\\Local\\Programs\\Python\\Python311\\Lib\\site-packages\\xgboost\\sklearn.py:1395: UserWarning: `use_label_encoder` is deprecated in 1.7.0.\n",
      "  warnings.warn(\"`use_label_encoder` is deprecated in 1.7.0.\")\n"
     ]
    },
    {
     "name": "stdout",
     "output_type": "stream",
     "text": [
      "[flaml.automl.logger: 01-09 22:15:26] {2394} INFO -  at 178.3s,\testimator xgb_limitdepth's best error=0.0596,\tbest estimator lgbm's best error=0.0342\n",
      "[flaml.automl.logger: 01-09 22:15:26] {2221} INFO - iteration 110, current learner extra_tree\n",
      "[flaml.automl.logger: 01-09 22:15:27] {2394} INFO -  at 179.0s,\testimator extra_tree's best error=0.1916,\tbest estimator lgbm's best error=0.0342\n",
      "[flaml.automl.logger: 01-09 22:15:27] {2221} INFO - iteration 111, current learner lgbm\n",
      "[flaml.automl.logger: 01-09 22:15:31] {2394} INFO -  at 182.7s,\testimator lgbm's best error=0.0342,\tbest estimator lgbm's best error=0.0342\n",
      "[flaml.automl.logger: 01-09 22:15:31] {2221} INFO - iteration 112, current learner xgb_limitdepth\n"
     ]
    },
    {
     "name": "stderr",
     "output_type": "stream",
     "text": [
      "c:\\Users\\colla\\AppData\\Local\\Programs\\Python\\Python311\\Lib\\site-packages\\xgboost\\sklearn.py:1395: UserWarning: `use_label_encoder` is deprecated in 1.7.0.\n",
      "  warnings.warn(\"`use_label_encoder` is deprecated in 1.7.0.\")\n"
     ]
    },
    {
     "name": "stdout",
     "output_type": "stream",
     "text": [
      "[flaml.automl.logger: 01-09 22:15:31] {2394} INFO -  at 183.4s,\testimator xgb_limitdepth's best error=0.0596,\tbest estimator lgbm's best error=0.0342\n",
      "[flaml.automl.logger: 01-09 22:15:31] {2221} INFO - iteration 113, current learner extra_tree\n",
      "[flaml.automl.logger: 01-09 22:15:32] {2394} INFO -  at 184.0s,\testimator extra_tree's best error=0.1916,\tbest estimator lgbm's best error=0.0342\n",
      "[flaml.automl.logger: 01-09 22:15:32] {2221} INFO - iteration 114, current learner xgb_limitdepth\n"
     ]
    },
    {
     "name": "stderr",
     "output_type": "stream",
     "text": [
      "c:\\Users\\colla\\AppData\\Local\\Programs\\Python\\Python311\\Lib\\site-packages\\xgboost\\sklearn.py:1395: UserWarning: `use_label_encoder` is deprecated in 1.7.0.\n",
      "  warnings.warn(\"`use_label_encoder` is deprecated in 1.7.0.\")\n"
     ]
    },
    {
     "name": "stdout",
     "output_type": "stream",
     "text": [
      "[flaml.automl.logger: 01-09 22:15:33] {2394} INFO -  at 184.8s,\testimator xgb_limitdepth's best error=0.0589,\tbest estimator lgbm's best error=0.0342\n",
      "[flaml.automl.logger: 01-09 22:15:33] {2221} INFO - iteration 115, current learner lgbm\n",
      "[flaml.automl.logger: 01-09 22:15:37] {2394} INFO -  at 189.3s,\testimator lgbm's best error=0.0342,\tbest estimator lgbm's best error=0.0342\n",
      "[flaml.automl.logger: 01-09 22:15:37] {2221} INFO - iteration 116, current learner lgbm\n",
      "[flaml.automl.logger: 01-09 22:16:39] {2394} INFO -  at 250.7s,\testimator lgbm's best error=0.0229,\tbest estimator lgbm's best error=0.0229\n",
      "[flaml.automl.logger: 01-09 22:16:39] {2221} INFO - iteration 117, current learner lrl1\n",
      "[flaml.automl.logger: 01-09 22:16:40] {2394} INFO -  at 252.0s,\testimator lrl1's best error=0.6761,\tbest estimator lgbm's best error=0.0229\n",
      "[flaml.automl.logger: 01-09 22:16:40] {2221} INFO - iteration 118, current learner lrl1\n"
     ]
    },
    {
     "name": "stderr",
     "output_type": "stream",
     "text": [
      "c:\\Users\\colla\\AppData\\Local\\Programs\\Python\\Python311\\Lib\\site-packages\\sklearn\\linear_model\\_sag.py:350: ConvergenceWarning: The max_iter was reached which means the coef_ did not converge\n",
      "  warnings.warn(\n"
     ]
    },
    {
     "name": "stdout",
     "output_type": "stream",
     "text": [
      "[flaml.automl.logger: 01-09 22:16:41] {2394} INFO -  at 253.3s,\testimator lrl1's best error=0.6761,\tbest estimator lgbm's best error=0.0229\n",
      "[flaml.automl.logger: 01-09 22:16:41] {2221} INFO - iteration 119, current learner lrl1\n"
     ]
    },
    {
     "name": "stderr",
     "output_type": "stream",
     "text": [
      "c:\\Users\\colla\\AppData\\Local\\Programs\\Python\\Python311\\Lib\\site-packages\\sklearn\\linear_model\\_sag.py:350: ConvergenceWarning: The max_iter was reached which means the coef_ did not converge\n",
      "  warnings.warn(\n"
     ]
    },
    {
     "name": "stdout",
     "output_type": "stream",
     "text": [
      "[flaml.automl.logger: 01-09 22:16:42] {2394} INFO -  at 254.6s,\testimator lrl1's best error=0.6761,\tbest estimator lgbm's best error=0.0229\n",
      "[flaml.automl.logger: 01-09 22:16:42] {2221} INFO - iteration 120, current learner lgbm\n"
     ]
    },
    {
     "name": "stderr",
     "output_type": "stream",
     "text": [
      "c:\\Users\\colla\\AppData\\Local\\Programs\\Python\\Python311\\Lib\\site-packages\\sklearn\\linear_model\\_sag.py:350: ConvergenceWarning: The max_iter was reached which means the coef_ did not converge\n",
      "  warnings.warn(\n"
     ]
    },
    {
     "name": "stdout",
     "output_type": "stream",
     "text": [
      "[flaml.automl.logger: 01-09 22:17:13] {2394} INFO -  at 285.5s,\testimator lgbm's best error=0.0229,\tbest estimator lgbm's best error=0.0229\n",
      "[flaml.automl.logger: 01-09 22:17:13] {2221} INFO - iteration 121, current learner extra_tree\n",
      "[flaml.automl.logger: 01-09 22:17:14] {2394} INFO -  at 286.1s,\testimator extra_tree's best error=0.1471,\tbest estimator lgbm's best error=0.0229\n",
      "[flaml.automl.logger: 01-09 22:17:14] {2221} INFO - iteration 122, current learner extra_tree\n",
      "[flaml.automl.logger: 01-09 22:17:15] {2394} INFO -  at 286.9s,\testimator extra_tree's best error=0.1471,\tbest estimator lgbm's best error=0.0229\n",
      "[flaml.automl.logger: 01-09 22:17:15] {2221} INFO - iteration 123, current learner extra_tree\n",
      "[flaml.automl.logger: 01-09 22:17:15] {2394} INFO -  at 287.5s,\testimator extra_tree's best error=0.1363,\tbest estimator lgbm's best error=0.0229\n",
      "[flaml.automl.logger: 01-09 22:17:15] {2221} INFO - iteration 124, current learner extra_tree\n",
      "[flaml.automl.logger: 01-09 22:17:16] {2394} INFO -  at 288.3s,\testimator extra_tree's best error=0.1199,\tbest estimator lgbm's best error=0.0229\n",
      "[flaml.automl.logger: 01-09 22:17:16] {2221} INFO - iteration 125, current learner extra_tree\n",
      "[flaml.automl.logger: 01-09 22:17:17] {2394} INFO -  at 288.9s,\testimator extra_tree's best error=0.1199,\tbest estimator lgbm's best error=0.0229\n",
      "[flaml.automl.logger: 01-09 22:17:17] {2221} INFO - iteration 126, current learner lgbm\n",
      "[flaml.automl.logger: 01-09 22:19:13] {2394} INFO -  at 405.0s,\testimator lgbm's best error=0.0219,\tbest estimator lgbm's best error=0.0219\n",
      "[flaml.automl.logger: 01-09 22:19:13] {2221} INFO - iteration 127, current learner xgboost\n"
     ]
    },
    {
     "name": "stderr",
     "output_type": "stream",
     "text": [
      "c:\\Users\\colla\\AppData\\Local\\Programs\\Python\\Python311\\Lib\\site-packages\\xgboost\\sklearn.py:1395: UserWarning: `use_label_encoder` is deprecated in 1.7.0.\n",
      "  warnings.warn(\"`use_label_encoder` is deprecated in 1.7.0.\")\n"
     ]
    },
    {
     "name": "stdout",
     "output_type": "stream",
     "text": [
      "[flaml.automl.logger: 01-09 22:19:14] {2394} INFO -  at 405.7s,\testimator xgboost's best error=0.0438,\tbest estimator lgbm's best error=0.0219\n",
      "[flaml.automl.logger: 01-09 22:19:14] {2221} INFO - iteration 128, current learner xgboost\n"
     ]
    },
    {
     "name": "stderr",
     "output_type": "stream",
     "text": [
      "c:\\Users\\colla\\AppData\\Local\\Programs\\Python\\Python311\\Lib\\site-packages\\xgboost\\sklearn.py:1395: UserWarning: `use_label_encoder` is deprecated in 1.7.0.\n",
      "  warnings.warn(\"`use_label_encoder` is deprecated in 1.7.0.\")\n"
     ]
    },
    {
     "name": "stdout",
     "output_type": "stream",
     "text": [
      "[flaml.automl.logger: 01-09 22:19:14] {2394} INFO -  at 406.5s,\testimator xgboost's best error=0.0438,\tbest estimator lgbm's best error=0.0219\n",
      "[flaml.automl.logger: 01-09 22:19:14] {2221} INFO - iteration 129, current learner extra_tree\n",
      "[flaml.automl.logger: 01-09 22:19:15] {2394} INFO -  at 407.3s,\testimator extra_tree's best error=0.1184,\tbest estimator lgbm's best error=0.0219\n",
      "[flaml.automl.logger: 01-09 22:19:15] {2221} INFO - iteration 130, current learner xgb_limitdepth\n"
     ]
    },
    {
     "name": "stderr",
     "output_type": "stream",
     "text": [
      "c:\\Users\\colla\\AppData\\Local\\Programs\\Python\\Python311\\Lib\\site-packages\\xgboost\\sklearn.py:1395: UserWarning: `use_label_encoder` is deprecated in 1.7.0.\n",
      "  warnings.warn(\"`use_label_encoder` is deprecated in 1.7.0.\")\n"
     ]
    },
    {
     "name": "stdout",
     "output_type": "stream",
     "text": [
      "[flaml.automl.logger: 01-09 22:19:15] {2394} INFO -  at 407.6s,\testimator xgb_limitdepth's best error=0.0589,\tbest estimator lgbm's best error=0.0219\n",
      "[flaml.automl.logger: 01-09 22:19:15] {2221} INFO - iteration 131, current learner extra_tree\n",
      "[flaml.automl.logger: 01-09 22:19:16] {2394} INFO -  at 408.4s,\testimator extra_tree's best error=0.1184,\tbest estimator lgbm's best error=0.0219\n",
      "[flaml.automl.logger: 01-09 22:19:16] {2221} INFO - iteration 132, current learner extra_tree\n",
      "[flaml.automl.logger: 01-09 22:19:17] {2394} INFO -  at 409.5s,\testimator extra_tree's best error=0.1184,\tbest estimator lgbm's best error=0.0219\n",
      "[flaml.automl.logger: 01-09 22:19:17] {2221} INFO - iteration 133, current learner xgb_limitdepth\n"
     ]
    },
    {
     "name": "stderr",
     "output_type": "stream",
     "text": [
      "c:\\Users\\colla\\AppData\\Local\\Programs\\Python\\Python311\\Lib\\site-packages\\xgboost\\sklearn.py:1395: UserWarning: `use_label_encoder` is deprecated in 1.7.0.\n",
      "  warnings.warn(\"`use_label_encoder` is deprecated in 1.7.0.\")\n"
     ]
    },
    {
     "name": "stdout",
     "output_type": "stream",
     "text": [
      "[flaml.automl.logger: 01-09 22:19:18] {2394} INFO -  at 409.8s,\testimator xgb_limitdepth's best error=0.0589,\tbest estimator lgbm's best error=0.0219\n",
      "[flaml.automl.logger: 01-09 22:19:18] {2221} INFO - iteration 134, current learner xgboost\n"
     ]
    },
    {
     "name": "stderr",
     "output_type": "stream",
     "text": [
      "c:\\Users\\colla\\AppData\\Local\\Programs\\Python\\Python311\\Lib\\site-packages\\xgboost\\sklearn.py:1395: UserWarning: `use_label_encoder` is deprecated in 1.7.0.\n",
      "  warnings.warn(\"`use_label_encoder` is deprecated in 1.7.0.\")\n"
     ]
    },
    {
     "name": "stdout",
     "output_type": "stream",
     "text": [
      "[flaml.automl.logger: 01-09 22:19:18] {2394} INFO -  at 410.5s,\testimator xgboost's best error=0.0438,\tbest estimator lgbm's best error=0.0219\n",
      "[flaml.automl.logger: 01-09 22:19:18] {2221} INFO - iteration 135, current learner xgboost\n"
     ]
    },
    {
     "name": "stderr",
     "output_type": "stream",
     "text": [
      "c:\\Users\\colla\\AppData\\Local\\Programs\\Python\\Python311\\Lib\\site-packages\\xgboost\\sklearn.py:1395: UserWarning: `use_label_encoder` is deprecated in 1.7.0.\n",
      "  warnings.warn(\"`use_label_encoder` is deprecated in 1.7.0.\")\n"
     ]
    },
    {
     "name": "stdout",
     "output_type": "stream",
     "text": [
      "[flaml.automl.logger: 01-09 22:19:19] {2394} INFO -  at 411.2s,\testimator xgboost's best error=0.0438,\tbest estimator lgbm's best error=0.0219\n",
      "[flaml.automl.logger: 01-09 22:19:19] {2221} INFO - iteration 136, current learner extra_tree\n",
      "[flaml.automl.logger: 01-09 22:19:20] {2394} INFO -  at 412.2s,\testimator extra_tree's best error=0.1184,\tbest estimator lgbm's best error=0.0219\n",
      "[flaml.automl.logger: 01-09 22:19:20] {2221} INFO - iteration 137, current learner xgb_limitdepth\n"
     ]
    },
    {
     "name": "stderr",
     "output_type": "stream",
     "text": [
      "c:\\Users\\colla\\AppData\\Local\\Programs\\Python\\Python311\\Lib\\site-packages\\xgboost\\sklearn.py:1395: UserWarning: `use_label_encoder` is deprecated in 1.7.0.\n",
      "  warnings.warn(\"`use_label_encoder` is deprecated in 1.7.0.\")\n"
     ]
    },
    {
     "name": "stdout",
     "output_type": "stream",
     "text": [
      "[flaml.automl.logger: 01-09 22:19:20] {2394} INFO -  at 412.5s,\testimator xgb_limitdepth's best error=0.0589,\tbest estimator lgbm's best error=0.0219\n",
      "[flaml.automl.logger: 01-09 22:19:20] {2221} INFO - iteration 138, current learner extra_tree\n",
      "[flaml.automl.logger: 01-09 22:19:21] {2394} INFO -  at 413.3s,\testimator extra_tree's best error=0.1184,\tbest estimator lgbm's best error=0.0219\n",
      "[flaml.automl.logger: 01-09 22:19:21] {2221} INFO - iteration 139, current learner rf\n",
      "[flaml.automl.logger: 01-09 22:19:21] {2394} INFO -  at 413.5s,\testimator rf's best error=0.0680,\tbest estimator lgbm's best error=0.0219\n",
      "[flaml.automl.logger: 01-09 22:19:21] {2221} INFO - iteration 140, current learner xgb_limitdepth\n"
     ]
    },
    {
     "name": "stderr",
     "output_type": "stream",
     "text": [
      "c:\\Users\\colla\\AppData\\Local\\Programs\\Python\\Python311\\Lib\\site-packages\\xgboost\\sklearn.py:1395: UserWarning: `use_label_encoder` is deprecated in 1.7.0.\n",
      "  warnings.warn(\"`use_label_encoder` is deprecated in 1.7.0.\")\n"
     ]
    },
    {
     "name": "stdout",
     "output_type": "stream",
     "text": [
      "[flaml.automl.logger: 01-09 22:19:22] {2394} INFO -  at 413.8s,\testimator xgb_limitdepth's best error=0.0589,\tbest estimator lgbm's best error=0.0219\n",
      "[flaml.automl.logger: 01-09 22:19:22] {2221} INFO - iteration 141, current learner xgboost\n"
     ]
    },
    {
     "name": "stderr",
     "output_type": "stream",
     "text": [
      "c:\\Users\\colla\\AppData\\Local\\Programs\\Python\\Python311\\Lib\\site-packages\\xgboost\\sklearn.py:1395: UserWarning: `use_label_encoder` is deprecated in 1.7.0.\n",
      "  warnings.warn(\"`use_label_encoder` is deprecated in 1.7.0.\")\n"
     ]
    },
    {
     "name": "stdout",
     "output_type": "stream",
     "text": [
      "[flaml.automl.logger: 01-09 22:19:22] {2394} INFO -  at 414.4s,\testimator xgboost's best error=0.0438,\tbest estimator lgbm's best error=0.0219\n",
      "[flaml.automl.logger: 01-09 22:19:22] {2221} INFO - iteration 142, current learner xgb_limitdepth\n"
     ]
    },
    {
     "name": "stderr",
     "output_type": "stream",
     "text": [
      "c:\\Users\\colla\\AppData\\Local\\Programs\\Python\\Python311\\Lib\\site-packages\\xgboost\\sklearn.py:1395: UserWarning: `use_label_encoder` is deprecated in 1.7.0.\n",
      "  warnings.warn(\"`use_label_encoder` is deprecated in 1.7.0.\")\n"
     ]
    },
    {
     "name": "stdout",
     "output_type": "stream",
     "text": [
      "[flaml.automl.logger: 01-09 22:19:23] {2394} INFO -  at 414.7s,\testimator xgb_limitdepth's best error=0.0589,\tbest estimator lgbm's best error=0.0219\n",
      "[flaml.automl.logger: 01-09 22:19:23] {2221} INFO - iteration 143, current learner xgboost\n"
     ]
    },
    {
     "name": "stderr",
     "output_type": "stream",
     "text": [
      "c:\\Users\\colla\\AppData\\Local\\Programs\\Python\\Python311\\Lib\\site-packages\\xgboost\\sklearn.py:1395: UserWarning: `use_label_encoder` is deprecated in 1.7.0.\n",
      "  warnings.warn(\"`use_label_encoder` is deprecated in 1.7.0.\")\n"
     ]
    },
    {
     "name": "stdout",
     "output_type": "stream",
     "text": [
      "[flaml.automl.logger: 01-09 22:19:23] {2394} INFO -  at 415.3s,\testimator xgboost's best error=0.0438,\tbest estimator lgbm's best error=0.0219\n",
      "[flaml.automl.logger: 01-09 22:19:23] {2221} INFO - iteration 144, current learner xgb_limitdepth\n"
     ]
    },
    {
     "name": "stderr",
     "output_type": "stream",
     "text": [
      "c:\\Users\\colla\\AppData\\Local\\Programs\\Python\\Python311\\Lib\\site-packages\\xgboost\\sklearn.py:1395: UserWarning: `use_label_encoder` is deprecated in 1.7.0.\n",
      "  warnings.warn(\"`use_label_encoder` is deprecated in 1.7.0.\")\n"
     ]
    },
    {
     "name": "stdout",
     "output_type": "stream",
     "text": [
      "[flaml.automl.logger: 01-09 22:19:23] {2394} INFO -  at 415.6s,\testimator xgb_limitdepth's best error=0.0589,\tbest estimator lgbm's best error=0.0219\n",
      "[flaml.automl.logger: 01-09 22:19:23] {2221} INFO - iteration 145, current learner xgb_limitdepth\n"
     ]
    },
    {
     "name": "stderr",
     "output_type": "stream",
     "text": [
      "c:\\Users\\colla\\AppData\\Local\\Programs\\Python\\Python311\\Lib\\site-packages\\xgboost\\sklearn.py:1395: UserWarning: `use_label_encoder` is deprecated in 1.7.0.\n",
      "  warnings.warn(\"`use_label_encoder` is deprecated in 1.7.0.\")\n"
     ]
    },
    {
     "name": "stdout",
     "output_type": "stream",
     "text": [
      "[flaml.automl.logger: 01-09 22:19:24] {2394} INFO -  at 415.8s,\testimator xgb_limitdepth's best error=0.0589,\tbest estimator lgbm's best error=0.0219\n",
      "[flaml.automl.logger: 01-09 22:19:24] {2221} INFO - iteration 146, current learner extra_tree\n",
      "[flaml.automl.logger: 01-09 22:19:51] {2394} INFO -  at 443.2s,\testimator extra_tree's best error=0.1184,\tbest estimator lgbm's best error=0.0219\n",
      "[flaml.automl.logger: 01-09 22:19:51] {2221} INFO - iteration 147, current learner xgboost\n"
     ]
    },
    {
     "name": "stderr",
     "output_type": "stream",
     "text": [
      "c:\\Users\\colla\\AppData\\Local\\Programs\\Python\\Python311\\Lib\\site-packages\\xgboost\\sklearn.py:1395: UserWarning: `use_label_encoder` is deprecated in 1.7.0.\n",
      "  warnings.warn(\"`use_label_encoder` is deprecated in 1.7.0.\")\n"
     ]
    },
    {
     "name": "stdout",
     "output_type": "stream",
     "text": [
      "[flaml.automl.logger: 01-09 22:19:51] {2394} INFO -  at 443.6s,\testimator xgboost's best error=0.0438,\tbest estimator lgbm's best error=0.0219\n",
      "[flaml.automl.logger: 01-09 22:19:51] {2221} INFO - iteration 148, current learner xgboost\n"
     ]
    },
    {
     "name": "stderr",
     "output_type": "stream",
     "text": [
      "c:\\Users\\colla\\AppData\\Local\\Programs\\Python\\Python311\\Lib\\site-packages\\xgboost\\sklearn.py:1395: UserWarning: `use_label_encoder` is deprecated in 1.7.0.\n",
      "  warnings.warn(\"`use_label_encoder` is deprecated in 1.7.0.\")\n"
     ]
    },
    {
     "name": "stdout",
     "output_type": "stream",
     "text": [
      "[flaml.automl.logger: 01-09 22:19:53] {2394} INFO -  at 445.0s,\testimator xgboost's best error=0.0438,\tbest estimator lgbm's best error=0.0219\n",
      "[flaml.automl.logger: 01-09 22:19:53] {2221} INFO - iteration 149, current learner xgboost\n"
     ]
    },
    {
     "name": "stderr",
     "output_type": "stream",
     "text": [
      "c:\\Users\\colla\\AppData\\Local\\Programs\\Python\\Python311\\Lib\\site-packages\\xgboost\\sklearn.py:1395: UserWarning: `use_label_encoder` is deprecated in 1.7.0.\n",
      "  warnings.warn(\"`use_label_encoder` is deprecated in 1.7.0.\")\n"
     ]
    },
    {
     "name": "stdout",
     "output_type": "stream",
     "text": [
      "[flaml.automl.logger: 01-09 22:19:54] {2394} INFO -  at 446.0s,\testimator xgboost's best error=0.0438,\tbest estimator lgbm's best error=0.0219\n",
      "[flaml.automl.logger: 01-09 22:19:54] {2221} INFO - iteration 150, current learner xgboost\n"
     ]
    },
    {
     "name": "stderr",
     "output_type": "stream",
     "text": [
      "c:\\Users\\colla\\AppData\\Local\\Programs\\Python\\Python311\\Lib\\site-packages\\xgboost\\sklearn.py:1395: UserWarning: `use_label_encoder` is deprecated in 1.7.0.\n",
      "  warnings.warn(\"`use_label_encoder` is deprecated in 1.7.0.\")\n"
     ]
    },
    {
     "name": "stdout",
     "output_type": "stream",
     "text": [
      "[flaml.automl.logger: 01-09 22:19:55] {2394} INFO -  at 447.2s,\testimator xgboost's best error=0.0438,\tbest estimator lgbm's best error=0.0219\n",
      "[flaml.automl.logger: 01-09 22:19:55] {2221} INFO - iteration 151, current learner xgboost\n"
     ]
    },
    {
     "name": "stderr",
     "output_type": "stream",
     "text": [
      "c:\\Users\\colla\\AppData\\Local\\Programs\\Python\\Python311\\Lib\\site-packages\\xgboost\\sklearn.py:1395: UserWarning: `use_label_encoder` is deprecated in 1.7.0.\n",
      "  warnings.warn(\"`use_label_encoder` is deprecated in 1.7.0.\")\n"
     ]
    },
    {
     "name": "stdout",
     "output_type": "stream",
     "text": [
      "[flaml.automl.logger: 01-09 22:19:56] {2394} INFO -  at 448.2s,\testimator xgboost's best error=0.0438,\tbest estimator lgbm's best error=0.0219\n",
      "[flaml.automl.logger: 01-09 22:19:56] {2221} INFO - iteration 152, current learner xgboost\n"
     ]
    },
    {
     "name": "stderr",
     "output_type": "stream",
     "text": [
      "c:\\Users\\colla\\AppData\\Local\\Programs\\Python\\Python311\\Lib\\site-packages\\xgboost\\sklearn.py:1395: UserWarning: `use_label_encoder` is deprecated in 1.7.0.\n",
      "  warnings.warn(\"`use_label_encoder` is deprecated in 1.7.0.\")\n"
     ]
    },
    {
     "name": "stdout",
     "output_type": "stream",
     "text": [
      "[flaml.automl.logger: 01-09 22:19:57] {2394} INFO -  at 449.2s,\testimator xgboost's best error=0.0438,\tbest estimator lgbm's best error=0.0219\n",
      "[flaml.automl.logger: 01-09 22:19:57] {2221} INFO - iteration 153, current learner xgb_limitdepth\n"
     ]
    },
    {
     "name": "stderr",
     "output_type": "stream",
     "text": [
      "c:\\Users\\colla\\AppData\\Local\\Programs\\Python\\Python311\\Lib\\site-packages\\xgboost\\sklearn.py:1395: UserWarning: `use_label_encoder` is deprecated in 1.7.0.\n",
      "  warnings.warn(\"`use_label_encoder` is deprecated in 1.7.0.\")\n"
     ]
    },
    {
     "name": "stdout",
     "output_type": "stream",
     "text": [
      "[flaml.automl.logger: 01-09 22:19:57] {2394} INFO -  at 449.5s,\testimator xgb_limitdepth's best error=0.0589,\tbest estimator lgbm's best error=0.0219\n",
      "[flaml.automl.logger: 01-09 22:19:57] {2221} INFO - iteration 154, current learner extra_tree\n",
      "[flaml.automl.logger: 01-09 22:20:13] {2394} INFO -  at 464.9s,\testimator extra_tree's best error=0.1184,\tbest estimator lgbm's best error=0.0219\n",
      "[flaml.automl.logger: 01-09 22:20:13] {2221} INFO - iteration 155, current learner rf\n",
      "[flaml.automl.logger: 01-09 22:20:13] {2394} INFO -  at 465.1s,\testimator rf's best error=0.0680,\tbest estimator lgbm's best error=0.0219\n",
      "[flaml.automl.logger: 01-09 22:20:13] {2221} INFO - iteration 156, current learner xgboost\n"
     ]
    },
    {
     "name": "stderr",
     "output_type": "stream",
     "text": [
      "c:\\Users\\colla\\AppData\\Local\\Programs\\Python\\Python311\\Lib\\site-packages\\xgboost\\sklearn.py:1395: UserWarning: `use_label_encoder` is deprecated in 1.7.0.\n",
      "  warnings.warn(\"`use_label_encoder` is deprecated in 1.7.0.\")\n"
     ]
    },
    {
     "name": "stdout",
     "output_type": "stream",
     "text": [
      "[flaml.automl.logger: 01-09 22:20:13] {2394} INFO -  at 465.5s,\testimator xgboost's best error=0.0438,\tbest estimator lgbm's best error=0.0219\n",
      "[flaml.automl.logger: 01-09 22:20:13] {2221} INFO - iteration 157, current learner xgb_limitdepth\n",
      "[flaml.automl.logger: 01-09 22:20:13] {2394} INFO -  at 465.6s,\testimator xgb_limitdepth's best error=0.0589,\tbest estimator lgbm's best error=0.0219\n",
      "[flaml.automl.logger: 01-09 22:20:13] {2221} INFO - iteration 158, current learner extra_tree\n"
     ]
    },
    {
     "name": "stderr",
     "output_type": "stream",
     "text": [
      "c:\\Users\\colla\\AppData\\Local\\Programs\\Python\\Python311\\Lib\\site-packages\\xgboost\\sklearn.py:1395: UserWarning: `use_label_encoder` is deprecated in 1.7.0.\n",
      "  warnings.warn(\"`use_label_encoder` is deprecated in 1.7.0.\")\n"
     ]
    },
    {
     "name": "stdout",
     "output_type": "stream",
     "text": [
      "[flaml.automl.logger: 01-09 22:20:30] {2394} INFO -  at 482.2s,\testimator extra_tree's best error=0.1184,\tbest estimator lgbm's best error=0.0219\n",
      "[flaml.automl.logger: 01-09 22:22:38] {2630} INFO - retrain lgbm for 127.6s\n",
      "[flaml.automl.logger: 01-09 22:22:38] {2633} INFO - retrained model: LGBMClassifier(colsample_bytree=0.6173146581974789,\n",
      "               learning_rate=0.17750586590938333, max_bin=1023,\n",
      "               min_child_samples=25, n_estimators=146, num_leaves=117,\n",
      "               reg_alpha=0.03981592434190326, reg_lambda=0.2728675171499438,\n",
      "               verbose=-1)\n",
      "[flaml.automl.logger: 01-09 22:22:38] {1941} INFO - fit succeeded\n",
      "[flaml.automl.logger: 01-09 22:22:38] {1942} INFO - Time taken to find the best model: 404.96670055389404\n"
     ]
    }
   ],
   "source": [
    "automl.fit(X_train=X, y_train=y, **automl_settings)"
   ]
  },
  {
   "cell_type": "markdown",
   "metadata": {},
   "source": [
    "# Test model"
   ]
  },
  {
   "cell_type": "code",
   "execution_count": 9,
   "metadata": {},
   "outputs": [
    {
     "name": "stdout",
     "output_type": "stream",
     "text": [
      "<class 'pandas.core.frame.DataFrame'>\n",
      "RangeIndex: 500000 entries, 0 to 499999\n",
      "Data columns (total 40 columns):\n",
      " #   Column                                                 Non-Null Count   Dtype  \n",
      "---  ------                                                 --------------   -----  \n",
      " 0   Unnamed: 0                                             500000 non-null  int64  \n",
      " 1   N°DPE                                                  500000 non-null  object \n",
      " 2   Configuration_installation_chauffage_n°2               89047 non-null   object \n",
      " 3   Facteur_couverture_solaire_saisi                       277 non-null     float64\n",
      " 4   Surface_habitable_desservie_par_installation_ECS       496015 non-null  float64\n",
      " 5   Emission_GES_éclairage                                 500000 non-null  float64\n",
      " 6   Cage_d'escalier                                        8271 non-null    object \n",
      " 7   Conso_5_usages_é_finale_énergie_n°2                    40762 non-null   float64\n",
      " 8   Type_générateur_froid                                  51053 non-null   object \n",
      " 9   Type_émetteur_installation_chauffage_n°2               89047 non-null   object \n",
      " 10  Surface_totale_capteurs_photovoltaïque                 136 non-null     float64\n",
      " 11  Nom__commune_(Brut)                                    499999 non-null  object \n",
      " 12  Conso_chauffage_dépensier_installation_chauffage_n°1   498013 non-null  float64\n",
      " 13  Coût_chauffage_énergie_n°2                             40762 non-null   float64\n",
      " 14  Emission_GES_chauffage_énergie_n°2                     40762 non-null   float64\n",
      " 15  Code_INSEE_(BAN)                                       497758 non-null  object \n",
      " 16  Type_énergie_n°3                                       231 non-null     object \n",
      " 17  Etiquette_GES                                          500000 non-null  object \n",
      " 18  Type_générateur_n°1_installation_n°2                   89047 non-null   object \n",
      " 19  Code_postal_(brut)                                     500000 non-null  int64  \n",
      " 20  Description_générateur_chauffage_n°2_installation_n°2  571 non-null     object \n",
      " 21  Facteur_couverture_solaire                             4221 non-null    float64\n",
      " 22  Année_construction                                     318484 non-null  float64\n",
      " 23  Classe_altitude                                        499967 non-null  object \n",
      " 24  Code_postal_(BAN)                                      497757 non-null  float64\n",
      " 25  Conso_5_usages/m²_é_finale                             500000 non-null  float64\n",
      " 26  Conso_5_usages_é_finale                                500000 non-null  float64\n",
      " 27  Etiquette_DPE                                          500000 non-null  object \n",
      " 28  Hauteur_sous-plafond                                   500000 non-null  float64\n",
      " 29  N°_département_(BAN)                                   497703 non-null  object \n",
      " 30  Qualité_isolation_enveloppe                            500000 non-null  object \n",
      " 31  Qualité_isolation_menuiseries                          500000 non-null  object \n",
      " 32  Qualité_isolation_murs                                 499727 non-null  object \n",
      " 33  Qualité_isolation_plancher_bas                         445265 non-null  object \n",
      " 34  Qualité_isolation_plancher_haut_comble_aménagé         96024 non-null   object \n",
      " 35  Qualité_isolation_plancher_haut_comble_perdu           279435 non-null  object \n",
      " 36  Qualité_isolation_plancher_haut_toit_terrase           56184 non-null   object \n",
      " 37  Surface_habitable_immeuble                             74238 non-null   float64\n",
      " 38  Surface_habitable_logement                             497245 non-null  float64\n",
      " 39  Type_bâtiment                                          500000 non-null  object \n",
      "dtypes: float64(16), int64(2), object(22)\n",
      "memory usage: 152.6+ MB\n"
     ]
    },
    {
     "data": {
      "text/html": [
       "<div>\n",
       "<style scoped>\n",
       "    .dataframe tbody tr th:only-of-type {\n",
       "        vertical-align: middle;\n",
       "    }\n",
       "\n",
       "    .dataframe tbody tr th {\n",
       "        vertical-align: top;\n",
       "    }\n",
       "\n",
       "    .dataframe thead th {\n",
       "        text-align: right;\n",
       "    }\n",
       "</style>\n",
       "<table border=\"1\" class=\"dataframe\">\n",
       "  <thead>\n",
       "    <tr style=\"text-align: right;\">\n",
       "      <th></th>\n",
       "      <th>Unnamed: 0</th>\n",
       "      <th>N°DPE</th>\n",
       "      <th>Configuration_installation_chauffage_n°2</th>\n",
       "      <th>Facteur_couverture_solaire_saisi</th>\n",
       "      <th>Surface_habitable_desservie_par_installation_ECS</th>\n",
       "      <th>Emission_GES_éclairage</th>\n",
       "      <th>Cage_d'escalier</th>\n",
       "      <th>Conso_5_usages_é_finale_énergie_n°2</th>\n",
       "      <th>Type_générateur_froid</th>\n",
       "      <th>Type_émetteur_installation_chauffage_n°2</th>\n",
       "      <th>...</th>\n",
       "      <th>Qualité_isolation_enveloppe</th>\n",
       "      <th>Qualité_isolation_menuiseries</th>\n",
       "      <th>Qualité_isolation_murs</th>\n",
       "      <th>Qualité_isolation_plancher_bas</th>\n",
       "      <th>Qualité_isolation_plancher_haut_comble_aménagé</th>\n",
       "      <th>Qualité_isolation_plancher_haut_comble_perdu</th>\n",
       "      <th>Qualité_isolation_plancher_haut_toit_terrase</th>\n",
       "      <th>Surface_habitable_immeuble</th>\n",
       "      <th>Surface_habitable_logement</th>\n",
       "      <th>Type_bâtiment</th>\n",
       "    </tr>\n",
       "  </thead>\n",
       "  <tbody>\n",
       "    <tr>\n",
       "      <th>0</th>\n",
       "      <td>2500000</td>\n",
       "      <td>2275E0032601V</td>\n",
       "      <td>NaN</td>\n",
       "      <td>NaN</td>\n",
       "      <td>19.4</td>\n",
       "      <td>2.5</td>\n",
       "      <td>NaN</td>\n",
       "      <td>NaN</td>\n",
       "      <td>NaN</td>\n",
       "      <td>NaN</td>\n",
       "      <td>...</td>\n",
       "      <td>bonne</td>\n",
       "      <td>moyenne</td>\n",
       "      <td>bonne</td>\n",
       "      <td>très bonne</td>\n",
       "      <td>bonne</td>\n",
       "      <td>NaN</td>\n",
       "      <td>NaN</td>\n",
       "      <td>NaN</td>\n",
       "      <td>19.4</td>\n",
       "      <td>appartement</td>\n",
       "    </tr>\n",
       "    <tr>\n",
       "      <th>1</th>\n",
       "      <td>2500001</td>\n",
       "      <td>2258E1498146H</td>\n",
       "      <td>NaN</td>\n",
       "      <td>NaN</td>\n",
       "      <td>42.6</td>\n",
       "      <td>5.3</td>\n",
       "      <td>NaN</td>\n",
       "      <td>NaN</td>\n",
       "      <td>NaN</td>\n",
       "      <td>NaN</td>\n",
       "      <td>...</td>\n",
       "      <td>insuffisante</td>\n",
       "      <td>très bonne</td>\n",
       "      <td>insuffisante</td>\n",
       "      <td>très bonne</td>\n",
       "      <td>NaN</td>\n",
       "      <td>insuffisante</td>\n",
       "      <td>NaN</td>\n",
       "      <td>NaN</td>\n",
       "      <td>42.6</td>\n",
       "      <td>appartement</td>\n",
       "    </tr>\n",
       "    <tr>\n",
       "      <th>2</th>\n",
       "      <td>2500002</td>\n",
       "      <td>2240E3141568D</td>\n",
       "      <td>NaN</td>\n",
       "      <td>NaN</td>\n",
       "      <td>100.0</td>\n",
       "      <td>13.6</td>\n",
       "      <td>NaN</td>\n",
       "      <td>NaN</td>\n",
       "      <td>NaN</td>\n",
       "      <td>NaN</td>\n",
       "      <td>...</td>\n",
       "      <td>bonne</td>\n",
       "      <td>moyenne</td>\n",
       "      <td>moyenne</td>\n",
       "      <td>moyenne</td>\n",
       "      <td>NaN</td>\n",
       "      <td>très bonne</td>\n",
       "      <td>NaN</td>\n",
       "      <td>NaN</td>\n",
       "      <td>100.0</td>\n",
       "      <td>maison</td>\n",
       "    </tr>\n",
       "    <tr>\n",
       "      <th>3</th>\n",
       "      <td>2500003</td>\n",
       "      <td>2231E2390847X</td>\n",
       "      <td>NaN</td>\n",
       "      <td>NaN</td>\n",
       "      <td>80.0</td>\n",
       "      <td>10.9</td>\n",
       "      <td>NaN</td>\n",
       "      <td>NaN</td>\n",
       "      <td>NaN</td>\n",
       "      <td>NaN</td>\n",
       "      <td>...</td>\n",
       "      <td>très bonne</td>\n",
       "      <td>moyenne</td>\n",
       "      <td>bonne</td>\n",
       "      <td>bonne</td>\n",
       "      <td>NaN</td>\n",
       "      <td>insuffisante</td>\n",
       "      <td>NaN</td>\n",
       "      <td>NaN</td>\n",
       "      <td>80.0</td>\n",
       "      <td>maison</td>\n",
       "    </tr>\n",
       "    <tr>\n",
       "      <th>4</th>\n",
       "      <td>2500004</td>\n",
       "      <td>2234E0289846H</td>\n",
       "      <td>Installation de chauffage simple</td>\n",
       "      <td>NaN</td>\n",
       "      <td>70.5</td>\n",
       "      <td>9.2</td>\n",
       "      <td>NaN</td>\n",
       "      <td>NaN</td>\n",
       "      <td>NaN</td>\n",
       "      <td>Panneau rayonnant NFC, NF** et NF***</td>\n",
       "      <td>...</td>\n",
       "      <td>insuffisante</td>\n",
       "      <td>bonne</td>\n",
       "      <td>bonne</td>\n",
       "      <td>très bonne</td>\n",
       "      <td>NaN</td>\n",
       "      <td>très bonne</td>\n",
       "      <td>NaN</td>\n",
       "      <td>867.0</td>\n",
       "      <td>70.5</td>\n",
       "      <td>appartement</td>\n",
       "    </tr>\n",
       "  </tbody>\n",
       "</table>\n",
       "<p>5 rows × 40 columns</p>\n",
       "</div>"
      ],
      "text/plain": [
       "   Unnamed: 0          N°DPE Configuration_installation_chauffage_n°2   \n",
       "0     2500000  2275E0032601V                                      NaN  \\\n",
       "1     2500001  2258E1498146H                                      NaN   \n",
       "2     2500002  2240E3141568D                                      NaN   \n",
       "3     2500003  2231E2390847X                                      NaN   \n",
       "4     2500004  2234E0289846H         Installation de chauffage simple   \n",
       "\n",
       "   Facteur_couverture_solaire_saisi   \n",
       "0                               NaN  \\\n",
       "1                               NaN   \n",
       "2                               NaN   \n",
       "3                               NaN   \n",
       "4                               NaN   \n",
       "\n",
       "   Surface_habitable_desservie_par_installation_ECS  Emission_GES_éclairage   \n",
       "0                                              19.4                     2.5  \\\n",
       "1                                              42.6                     5.3   \n",
       "2                                             100.0                    13.6   \n",
       "3                                              80.0                    10.9   \n",
       "4                                              70.5                     9.2   \n",
       "\n",
       "  Cage_d'escalier  Conso_5_usages_é_finale_énergie_n°2 Type_générateur_froid   \n",
       "0             NaN                                  NaN                   NaN  \\\n",
       "1             NaN                                  NaN                   NaN   \n",
       "2             NaN                                  NaN                   NaN   \n",
       "3             NaN                                  NaN                   NaN   \n",
       "4             NaN                                  NaN                   NaN   \n",
       "\n",
       "  Type_émetteur_installation_chauffage_n°2  ...  Qualité_isolation_enveloppe   \n",
       "0                                      NaN  ...                        bonne  \\\n",
       "1                                      NaN  ...                 insuffisante   \n",
       "2                                      NaN  ...                        bonne   \n",
       "3                                      NaN  ...                   très bonne   \n",
       "4     Panneau rayonnant NFC, NF** et NF***  ...                 insuffisante   \n",
       "\n",
       "  Qualité_isolation_menuiseries  Qualité_isolation_murs   \n",
       "0                       moyenne                   bonne  \\\n",
       "1                    très bonne            insuffisante   \n",
       "2                       moyenne                 moyenne   \n",
       "3                       moyenne                   bonne   \n",
       "4                         bonne                   bonne   \n",
       "\n",
       "   Qualité_isolation_plancher_bas   \n",
       "0                      très bonne  \\\n",
       "1                      très bonne   \n",
       "2                         moyenne   \n",
       "3                           bonne   \n",
       "4                      très bonne   \n",
       "\n",
       "   Qualité_isolation_plancher_haut_comble_aménagé   \n",
       "0                                           bonne  \\\n",
       "1                                             NaN   \n",
       "2                                             NaN   \n",
       "3                                             NaN   \n",
       "4                                             NaN   \n",
       "\n",
       "  Qualité_isolation_plancher_haut_comble_perdu   \n",
       "0                                          NaN  \\\n",
       "1                                 insuffisante   \n",
       "2                                   très bonne   \n",
       "3                                 insuffisante   \n",
       "4                                   très bonne   \n",
       "\n",
       "  Qualité_isolation_plancher_haut_toit_terrase Surface_habitable_immeuble   \n",
       "0                                          NaN                        NaN  \\\n",
       "1                                          NaN                        NaN   \n",
       "2                                          NaN                        NaN   \n",
       "3                                          NaN                        NaN   \n",
       "4                                          NaN                      867.0   \n",
       "\n",
       "  Surface_habitable_logement  Type_bâtiment  \n",
       "0                       19.4    appartement  \n",
       "1                       42.6    appartement  \n",
       "2                      100.0         maison  \n",
       "3                       80.0         maison  \n",
       "4                       70.5    appartement  \n",
       "\n",
       "[5 rows x 40 columns]"
      ]
     },
     "execution_count": 9,
     "metadata": {},
     "output_type": "execute_result"
    }
   ],
   "source": [
    "df_test = pd.read_csv(\"data/test.csv\")\n",
    "\n",
    "df_test_info = df_test.info()\n",
    "df_test_head = df_test.head()\n",
    "\n",
    "df_test_head"
   ]
  },
  {
   "cell_type": "code",
   "execution_count": 10,
   "metadata": {},
   "outputs": [],
   "source": [
    "\n",
    "\n",
    "df_test_cleaned = df_test.drop(columns=[\"Unnamed: 0\", \"N°DPE\"])\n",
    "\n",
    "y_test_true = df_test_cleaned[\"Etiquette_DPE\"]\n",
    "\n",
    "X_test_cleaned = df_test_cleaned.drop(columns=[\"Etiquette_DPE\"]) \n",
    "\n",
    "y_test_pred = automl.predict(X_test_cleaned)"
   ]
  },
  {
   "cell_type": "code",
   "execution_count": 11,
   "metadata": {},
   "outputs": [
    {
     "name": "stdout",
     "output_type": "stream",
     "text": [
      "Test Accuracy: 0.991024\n",
      "Test Classification Report:\n",
      "               precision    recall  f1-score   support\n",
      "\n",
      "           A       0.96      0.96      0.96      5606\n",
      "           B       0.97      0.96      0.97     14209\n",
      "           C       0.99      0.99      0.99     92635\n",
      "           D       0.99      0.99      0.99    159924\n",
      "           E       0.99      0.99      0.99    124939\n",
      "           F       0.99      0.99      0.99     56272\n",
      "           G       1.00      1.00      1.00     46415\n",
      "\n",
      "    accuracy                           0.99    500000\n",
      "   macro avg       0.98      0.98      0.98    500000\n",
      "weighted avg       0.99      0.99      0.99    500000\n",
      "\n"
     ]
    }
   ],
   "source": [
    "\n",
    "accuracy_test = accuracy_score(y_test_true, y_test_pred)\n",
    "classification_rep_test = classification_report(y_test_true, y_test_pred)\n",
    "\n",
    "print(\"Test Accuracy:\", accuracy_test)\n",
    "print(\"Test Classification Report:\\n\", classification_rep_test)\n"
   ]
  },
  {
   "cell_type": "code",
   "execution_count": 12,
   "metadata": {},
   "outputs": [
    {
     "data": {
      "text/plain": [
       "['flamlModel_full.joblib']"
      ]
     },
     "execution_count": 12,
     "metadata": {},
     "output_type": "execute_result"
    }
   ],
   "source": [
    "from joblib import dump\n",
    "\n",
    "# Sauvegardez le modèle\n",
    "dump(automl, 'flamlModel_full.joblib')\n"
   ]
  },
  {
   "cell_type": "code",
   "execution_count": 13,
   "metadata": {},
   "outputs": [
    {
     "name": "stdout",
     "output_type": "stream",
     "text": [
      "{'Current Learner': 'lgbm', 'Current Sample': 10000, 'Current Hyper-parameters': {'n_estimators': 4, 'num_leaves': 4, 'min_child_samples': 20, 'learning_rate': 0.09999999999999995, 'log_max_bin': 8, 'colsample_bytree': 1.0, 'reg_alpha': 0.0009765625, 'reg_lambda': 1.0, 'FLAML_sample_size': 10000}, 'Best Learner': 'lgbm', 'Best Hyper-parameters': {'n_estimators': 4, 'num_leaves': 4, 'min_child_samples': 20, 'learning_rate': 0.09999999999999995, 'log_max_bin': 8, 'colsample_bytree': 1.0, 'reg_alpha': 0.0009765625, 'reg_lambda': 1.0, 'FLAML_sample_size': 10000}}\n",
      "{'Current Learner': 'lgbm', 'Current Sample': 10000, 'Current Hyper-parameters': {'n_estimators': 4, 'num_leaves': 4, 'min_child_samples': 12, 'learning_rate': 0.26770501231052046, 'log_max_bin': 7, 'colsample_bytree': 1.0, 'reg_alpha': 0.001348364934537134, 'reg_lambda': 1.4442580148221913, 'FLAML_sample_size': 10000}, 'Best Learner': 'lgbm', 'Best Hyper-parameters': {'n_estimators': 4, 'num_leaves': 4, 'min_child_samples': 12, 'learning_rate': 0.26770501231052046, 'log_max_bin': 7, 'colsample_bytree': 1.0, 'reg_alpha': 0.001348364934537134, 'reg_lambda': 1.4442580148221913, 'FLAML_sample_size': 10000}}\n",
      "{'Current Learner': 'lgbm', 'Current Sample': 10000, 'Current Hyper-parameters': {'n_estimators': 12, 'num_leaves': 4, 'min_child_samples': 9, 'learning_rate': 0.7260594590615893, 'log_max_bin': 9, 'colsample_bytree': 0.9285002286474459, 'reg_alpha': 0.0036840681931986645, 'reg_lambda': 0.7532480505730402, 'FLAML_sample_size': 10000}, 'Best Learner': 'lgbm', 'Best Hyper-parameters': {'n_estimators': 12, 'num_leaves': 4, 'min_child_samples': 9, 'learning_rate': 0.7260594590615893, 'log_max_bin': 9, 'colsample_bytree': 0.9285002286474459, 'reg_alpha': 0.0036840681931986645, 'reg_lambda': 0.7532480505730402, 'FLAML_sample_size': 10000}}\n",
      "{'Current Learner': 'lgbm', 'Current Sample': 10000, 'Current Hyper-parameters': {'n_estimators': 10, 'num_leaves': 4, 'min_child_samples': 15, 'learning_rate': 0.6945064905423671, 'log_max_bin': 10, 'colsample_bytree': 1.0, 'reg_alpha': 0.006955268652669901, 'reg_lambda': 11.838839163780849, 'FLAML_sample_size': 10000}, 'Best Learner': 'lgbm', 'Best Hyper-parameters': {'n_estimators': 10, 'num_leaves': 4, 'min_child_samples': 15, 'learning_rate': 0.6945064905423671, 'log_max_bin': 10, 'colsample_bytree': 1.0, 'reg_alpha': 0.006955268652669901, 'reg_lambda': 11.838839163780849, 'FLAML_sample_size': 10000}}\n",
      "{'Current Learner': 'lgbm', 'Current Sample': 10000, 'Current Hyper-parameters': {'n_estimators': 38, 'num_leaves': 4, 'min_child_samples': 11, 'learning_rate': 0.38363923015550033, 'log_max_bin': 10, 'colsample_bytree': 0.930646190497405, 'reg_alpha': 0.0009765625, 'reg_lambda': 2.292560666768758, 'FLAML_sample_size': 10000}, 'Best Learner': 'lgbm', 'Best Hyper-parameters': {'n_estimators': 38, 'num_leaves': 4, 'min_child_samples': 11, 'learning_rate': 0.38363923015550033, 'log_max_bin': 10, 'colsample_bytree': 0.930646190497405, 'reg_alpha': 0.0009765625, 'reg_lambda': 2.292560666768758, 'FLAML_sample_size': 10000}}\n",
      "{'Current Learner': 'lgbm', 'Current Sample': 10000, 'Current Hyper-parameters': {'n_estimators': 135, 'num_leaves': 20, 'min_child_samples': 9, 'learning_rate': 0.15922418945050276, 'log_max_bin': 10, 'colsample_bytree': 0.8345075630938922, 'reg_alpha': 0.0009765625, 'reg_lambda': 1.6702305601383631, 'FLAML_sample_size': 10000}, 'Best Learner': 'lgbm', 'Best Hyper-parameters': {'n_estimators': 135, 'num_leaves': 20, 'min_child_samples': 9, 'learning_rate': 0.15922418945050276, 'log_max_bin': 10, 'colsample_bytree': 0.8345075630938922, 'reg_alpha': 0.0009765625, 'reg_lambda': 1.6702305601383631, 'FLAML_sample_size': 10000}}\n",
      "{'Current Learner': 'lgbm', 'Current Sample': 10000, 'Current Hyper-parameters': {'n_estimators': 80, 'num_leaves': 94, 'min_child_samples': 11, 'learning_rate': 0.085537978248575, 'log_max_bin': 9, 'colsample_bytree': 0.7663773657187746, 'reg_alpha': 0.006958608037974516, 'reg_lambda': 0.4683303882185497, 'FLAML_sample_size': 10000}, 'Best Learner': 'lgbm', 'Best Hyper-parameters': {'n_estimators': 80, 'num_leaves': 94, 'min_child_samples': 11, 'learning_rate': 0.085537978248575, 'log_max_bin': 9, 'colsample_bytree': 0.7663773657187746, 'reg_alpha': 0.006958608037974516, 'reg_lambda': 0.4683303882185497, 'FLAML_sample_size': 10000}}\n",
      "{'Current Learner': 'lgbm', 'Current Sample': 40000, 'Current Hyper-parameters': {'n_estimators': 80, 'num_leaves': 94, 'min_child_samples': 11, 'learning_rate': 0.085537978248575, 'log_max_bin': 9, 'colsample_bytree': 0.7663773657187746, 'reg_alpha': 0.006958608037974516, 'reg_lambda': 0.4683303882185497, 'FLAML_sample_size': 40000}, 'Best Learner': 'lgbm', 'Best Hyper-parameters': {'n_estimators': 80, 'num_leaves': 94, 'min_child_samples': 11, 'learning_rate': 0.085537978248575, 'log_max_bin': 9, 'colsample_bytree': 0.7663773657187746, 'reg_alpha': 0.006958608037974516, 'reg_lambda': 0.4683303882185497, 'FLAML_sample_size': 40000}}\n",
      "{'Current Learner': 'xgboost', 'Current Sample': 40000, 'Current Hyper-parameters': {'n_estimators': 87, 'max_leaves': 73, 'min_child_weight': 0.9789451377800078, 'learning_rate': 0.3065982364474154, 'subsample': 0.8895588746662894, 'colsample_bylevel': 0.565770869712335, 'colsample_bytree': 0.6780771969638125, 'reg_alpha': 0.12167382357066643, 'reg_lambda': 2.085602632904536, 'FLAML_sample_size': 40000}, 'Best Learner': 'xgboost', 'Best Hyper-parameters': {'n_estimators': 87, 'max_leaves': 73, 'min_child_weight': 0.9789451377800078, 'learning_rate': 0.3065982364474154, 'subsample': 0.8895588746662894, 'colsample_bylevel': 0.565770869712335, 'colsample_bytree': 0.6780771969638125, 'reg_alpha': 0.12167382357066643, 'reg_lambda': 2.085602632904536, 'FLAML_sample_size': 40000}}\n",
      "{'Current Learner': 'lgbm', 'Current Sample': 160000, 'Current Hyper-parameters': {'n_estimators': 80, 'num_leaves': 94, 'min_child_samples': 11, 'learning_rate': 0.085537978248575, 'log_max_bin': 9, 'colsample_bytree': 0.7663773657187746, 'reg_alpha': 0.006958608037974516, 'reg_lambda': 0.4683303882185497, 'FLAML_sample_size': 160000}, 'Best Learner': 'lgbm', 'Best Hyper-parameters': {'n_estimators': 80, 'num_leaves': 94, 'min_child_samples': 11, 'learning_rate': 0.085537978248575, 'log_max_bin': 9, 'colsample_bytree': 0.7663773657187746, 'reg_alpha': 0.006958608037974516, 'reg_lambda': 0.4683303882185497, 'FLAML_sample_size': 160000}}\n"
     ]
    }
   ],
   "source": [
    "from flaml.data import get_output_from_log\n",
    "time_history, best_valid_loss_history, valid_loss_history, config_history, metric_history = \\\n",
    "    get_output_from_log(filename=\"flaml.log\", time_budget=120)\n",
    "for config in config_history:\n",
    "    print(config)"
   ]
  },
  {
   "cell_type": "code",
   "execution_count": 14,
   "metadata": {},
   "outputs": [
    {
     "data": {
      "image/png": "[encoded data removed]",
      "text/plain": [
       "<Figure size 640x480 with 1 Axes>"
      ]
     },
     "metadata": {},
     "output_type": "display_data"
    }
   ],
   "source": [
    "import matplotlib.pyplot as plt\n",
    "\n",
    "plt.title('Learning Curve')\n",
    "plt.xlabel('Wall Clock Time (s)')\n",
    "plt.ylabel('Validation Accuracy')\n",
    "plt.scatter(time_history, 1 - np.array(valid_loss_history))\n",
    "plt.step(time_history, 1 - np.array(best_valid_loss_history), where='post')\n",
    "plt.show()"
   ]
  },
  {
   "cell_type": "code",
   "execution_count": 15,
   "metadata": {},
   "outputs": [],
   "source": [
    "df_val = pd.read_csv(\"data/val.csv\")\n",
    "df_val_cleaned = df_val.drop(columns=[\"N°DPE\"])\n",
    "y_val_pred = automl.predict(df_val_cleaned)\n",
    "\n",
    "result_df = pd.DataFrame({\n",
    "    \"N°DPE\": df_val[\"N°DPE\"],\n",
    "    \"Etiquette_DPE\": y_val_pred\n",
    "})\n",
    "\n",
    "result_df.to_csv(\"resultats2.csv\", index=False)"
   ]
  }
 ],
 "metadata": {
  "kernelspec": {
   "display_name": "Python 3",
   "language": "python",
   "name": "python3"
  },
  "language_info": {
   "codemirror_mode": {
    "name": "ipython",
    "version": 3
   },
   "file_extension": ".py",
   "mimetype": "text/x-python",
   "name": "python",
   "nbconvert_exporter": "python",
   "pygments_lexer": "ipython3",
   "version": "3.11.3"
  }
 },
 "nbformat": 4,
 "nbformat_minor": 2
}
